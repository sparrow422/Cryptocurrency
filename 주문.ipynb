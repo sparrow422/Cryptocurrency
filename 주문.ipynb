{
 "cells": [
  {
   "cell_type": "code",
   "execution_count": 9,
   "id": "1752fa0a",
   "metadata": {
    "ExecuteTime": {
     "end_time": "2021-12-14T05:55:51.179313Z",
     "start_time": "2021-12-14T05:55:51.161363Z"
    }
   },
   "outputs": [],
   "source": [
    "import pyupbit\n",
    "\n",
    "access = \"oZ4r5pIwMdAFbNgY5p4aYz0tnHh6B7BfKjbxh71F\"          # 본인 값으로 변경\n",
    "secret = \"Y9E89xDx52T72oixLjZQBDS6y1hZYIRXXVZsMSDt\"          # 본인 값으로 변경\n",
    "upbit = pyupbit.Upbit(access, secret)"
   ]
  },
  {
   "cell_type": "code",
   "execution_count": 10,
   "id": "385d7ced",
   "metadata": {
    "ExecuteTime": {
     "end_time": "2021-12-14T05:55:51.713923Z",
     "start_time": "2021-12-14T05:55:51.498659Z"
    }
   },
   "outputs": [
    {
     "name": "stdout",
     "output_type": "stream",
     "text": [
      "0\n",
      "129734.62375111\n"
     ]
    }
   ],
   "source": [
    "print(upbit.get_balance(\"KRW-XRP\"))     # KRW-XRP 조회\n",
    "print(upbit.get_balance(\"KRW\"))         # 보유 현금 조회"
   ]
  },
  {
   "cell_type": "code",
   "execution_count": 11,
   "id": "c8441065",
   "metadata": {
    "ExecuteTime": {
     "end_time": "2021-12-14T05:56:31.741167Z",
     "start_time": "2021-12-14T05:56:31.574847Z"
    }
   },
   "outputs": [
    {
     "name": "stdout",
     "output_type": "stream",
     "text": [
      "[{'currency': 'KRW', 'balance': '129734.62375111', 'locked': '0.0', 'avg_buy_price': '0', 'avg_buy_price_modified': True, 'unit_currency': 'KRW'}, {'currency': 'BAY', 'balance': '0.00000001', 'locked': '0.0', 'avg_buy_price': '425.7544', 'avg_buy_price_modified': False, 'unit_currency': 'KRW'}]\n"
     ]
    }
   ],
   "source": [
    "print(upbit.get_balances())"
   ]
  },
  {
   "cell_type": "markdown",
   "id": "654b4823",
   "metadata": {},
   "source": [
    "# 시장가 매수"
   ]
  },
  {
   "cell_type": "code",
   "execution_count": null,
   "id": "d8c05666",
   "metadata": {},
   "outputs": [],
   "source": [
    "def buy_market_order(name, money):\n",
    "    cancel_order(name)\n",
    "    return upbit.buy_market_order(name, money)"
   ]
  },
  {
   "cell_type": "markdown",
   "id": "c674dc2f",
   "metadata": {},
   "source": [
    "# 시장가 매도"
   ]
  },
  {
   "cell_type": "code",
   "execution_count": null,
   "id": "d403c869",
   "metadata": {},
   "outputs": [],
   "source": [
    "def sell_market_order(name, money):\n",
    "    cancel_order(name)\n",
    "    return sell.buy_market_order(name, money)"
   ]
  },
  {
   "cell_type": "markdown",
   "id": "cf1931d7",
   "metadata": {},
   "source": [
    "# 호가+1 매수"
   ]
  },
  {
   "cell_type": "code",
   "execution_count": null,
   "id": "4d3dd30b",
   "metadata": {},
   "outputs": [],
   "source": [
    "def buy_limit_order(name, amount):\n",
    "    cancel_order(name)\n",
    "    \n",
    "    orderbook = pyupbit.get_orderbook(tickers=name)\n",
    "    \n",
    "    price = orderbook[0]['orderbook_units'][0]['bid_price']\n",
    "    price = price + 1e-8\n",
    "    return buy_limit_order(name, price, amount)"
   ]
  },
  {
   "cell_type": "markdown",
   "id": "ff205873",
   "metadata": {},
   "source": [
    "# 호가-1 매도"
   ]
  },
  {
   "cell_type": "code",
   "execution_count": null,
   "id": "4d3dd951",
   "metadata": {},
   "outputs": [],
   "source": [
    "def sell_limit_order(name, price, amount):\n",
    "    cancel_order(name)\n",
    "    \n",
    "    orderbook = pyupbit.get_orderbook(tickers=name)\n",
    "    \n",
    "    price = orderbook[0]['orderbook_units'][0]['ask_price']\n",
    "    price = price - 1e-8\n",
    "    return sell_limit_order(name, price, amount)"
   ]
  },
  {
   "cell_type": "markdown",
   "id": "ecae26b8",
   "metadata": {},
   "source": [
    "# 미체결 주문 취소"
   ]
  },
  {
   "cell_type": "code",
   "execution_count": null,
   "id": "b0de44ac",
   "metadata": {},
   "outputs": [],
   "source": [
    "def cancel_order(name):\n",
    "    orders = upbit.get_order(name)\n",
    "    \n",
    "    for o in orders:\n",
    "        upbit.cancel_order(o['uuid'])2\n",
    "        print('canceled ', o)"
   ]
  }
 ],
 "metadata": {
  "kernelspec": {
   "display_name": "Python 3",
   "language": "python",
   "name": "python3"
  },
  "language_info": {
   "codemirror_mode": {
    "name": "ipython",
    "version": 3
   },
   "file_extension": ".py",
   "mimetype": "text/x-python",
   "name": "python",
   "nbconvert_exporter": "python",
   "pygments_lexer": "ipython3",
   "version": "3.8.8"
  },
  "toc": {
   "base_numbering": 1,
   "nav_menu": {},
   "number_sections": true,
   "sideBar": true,
   "skip_h1_title": false,
   "title_cell": "Table of Contents",
   "title_sidebar": "Contents",
   "toc_cell": false,
   "toc_position": {},
   "toc_section_display": true,
   "toc_window_display": false
  }
 },
 "nbformat": 4,
 "nbformat_minor": 5
}
