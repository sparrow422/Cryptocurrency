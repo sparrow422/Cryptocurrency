{
 "cells": [
  {
   "cell_type": "code",
   "execution_count": 1,
   "id": "9069a478",
   "metadata": {},
   "outputs": [],
   "source": [
    "import csv\n",
    "from getpass import getpass\n",
    "from time import sleep\n",
    "from selenium.webdriver.common.keys import Keys\n",
    "from selenium.common.exceptions import NoSuchElementException\n",
    "# from msedge.selenium_tools import Edge, EdgeOptions\n",
    "from selenium import webdriver"
   ]
  },
  {
   "cell_type": "code",
   "execution_count": 9,
   "id": "1b6d7a94",
   "metadata": {},
   "outputs": [],
   "source": [
    "driver = webdriver.Chrome('C:/Users/choi/chromedriver')\n",
    "\n",
    "# 암묵적으로 웹 자원 로드를 위해 3초까지 기다려 준다.\n",
    "driver.implicitly_wait(3)\n",
    "driver.get('https://www.twitter.com/login')"
   ]
  },
  {
   "cell_type": "code",
   "execution_count": 10,
   "id": "27f67ba0",
   "metadata": {},
   "outputs": [],
   "source": [
    "username = driver.find_element_by_xpath('//input[@name=\"session[username_or_email]\"]')\n",
    "username.send_keys('sparrow42@naver.com')"
   ]
  },
  {
   "cell_type": "code",
   "execution_count": 11,
   "id": "74fb9411",
   "metadata": {},
   "outputs": [],
   "source": [
    "password = driver.find_element_by_xpath('//input[@name=\"session[password]\"]')\n",
    "password.send_keys('1234qwerasdf')"
   ]
  },
  {
   "cell_type": "code",
   "execution_count": 12,
   "id": "97d711bc",
   "metadata": {},
   "outputs": [],
   "source": [
    "password.send_keys(Keys.RETURN)"
   ]
  },
  {
   "cell_type": "code",
   "execution_count": 13,
   "id": "39173aba",
   "metadata": {},
   "outputs": [],
   "source": [
    "driver.get('https://www.twitter.com/elonmusk')"
   ]
  },
  {
   "cell_type": "code",
   "execution_count": 7,
   "id": "6f9d24a9",
   "metadata": {},
   "outputs": [],
   "source": [
    "# search_input = driver.find_element_by_xpath('//input[@aria-label=\"Search query\"]')\n",
    "# search_input.send_keys('@elonmusk')"
   ]
  },
  {
   "cell_type": "code",
   "execution_count": 8,
   "id": "18f2dc75",
   "metadata": {},
   "outputs": [],
   "source": [
    "# search_input.send_keys(Keys.RETURN)"
   ]
  },
  {
   "cell_type": "code",
   "execution_count": 39,
   "id": "71bfd88c",
   "metadata": {},
   "outputs": [],
   "source": [
    "# driver.find_element_by_link_text('Latest').click()"
   ]
  },
  {
   "cell_type": "code",
   "execution_count": 38,
   "id": "a5c6b2db",
   "metadata": {},
   "outputs": [],
   "source": [
    "cards = driver.find_elements_by_xpath('//div[@data-testid=\"tweet\"]')"
   ]
  },
  {
   "cell_type": "code",
   "execution_count": 39,
   "id": "5af1770c",
   "metadata": {},
   "outputs": [
    {
     "data": {
      "text/plain": [
       "11"
      ]
     },
     "execution_count": 39,
     "metadata": {},
     "output_type": "execute_result"
    }
   ],
   "source": [
    "len(cards)"
   ]
  },
  {
   "cell_type": "code",
   "execution_count": 40,
   "id": "c8a7bd17",
   "metadata": {},
   "outputs": [],
   "source": [
    "card = cards[5]"
   ]
  },
  {
   "cell_type": "code",
   "execution_count": 41,
   "id": "03a16119",
   "metadata": {},
   "outputs": [
    {
     "data": {
      "text/plain": [
       "'r/EthStaker'"
      ]
     },
     "execution_count": 41,
     "metadata": {},
     "output_type": "execute_result"
    }
   ],
   "source": [
    "# username\n",
    "card.find_element_by_xpath('.//span').text"
   ]
  },
  {
   "cell_type": "code",
   "execution_count": 42,
   "id": "4f317e85",
   "metadata": {},
   "outputs": [
    {
     "data": {
      "text/plain": [
       "'@ethStaker'"
      ]
     },
     "execution_count": 42,
     "metadata": {},
     "output_type": "execute_result"
    }
   ],
   "source": [
    "# twitter handle\n",
    "card.find_element_by_xpath('.//span[contains(text(), \"@\")]').text"
   ]
  },
  {
   "cell_type": "code",
   "execution_count": 43,
   "id": "8908f9a3",
   "metadata": {},
   "outputs": [
    {
     "data": {
      "text/plain": [
       "'2021-08-05T12:10:00.000Z'"
      ]
     },
     "execution_count": 43,
     "metadata": {},
     "output_type": "execute_result"
    }
   ],
   "source": [
    "# postdate\n",
    "card.find_element_by_xpath('.//time').get_attribute('datetime')"
   ]
  },
  {
   "cell_type": "code",
   "execution_count": 44,
   "id": "ac04b498",
   "metadata": {},
   "outputs": [
    {
     "name": "stdout",
     "output_type": "stream",
     "text": [
      "comment :  We're about 10 minutes away from starting the London Network Upgrade Livestream Party! \n",
      "\n",
      "It's not too late to hang out! Join the livestream here:\n",
      "responding :  London Network Upgrade Launch Party\n",
      "Join the EthStaker Discord: invite.gg/ethstakerJoin the EthStaker Reddit: www.reddit.com/r/ethstakerFull Event Details:https://ethstaker.cc/london/The London...\n",
      "youtube.com\n"
     ]
    }
   ],
   "source": [
    "# content of tweet\n",
    "comment = card.find_element_by_xpath('.//div[2]/div[2]/div[1]').text\n",
    "responding = card.find_element_by_xpath('.//div[2]/div[2]/div[2]').text\n",
    "print('comment : ', comment)\n",
    "print('responding : ', responding)"
   ]
  },
  {
   "cell_type": "code",
   "execution_count": 45,
   "id": "a8665326",
   "metadata": {},
   "outputs": [
    {
     "data": {
      "text/plain": [
       "'14'"
      ]
     },
     "execution_count": 45,
     "metadata": {},
     "output_type": "execute_result"
    }
   ],
   "source": [
    "# reply count\n",
    "card.find_element_by_xpath('.//div[@data-testid=\"reply\"]').text"
   ]
  },
  {
   "cell_type": "code",
   "execution_count": 46,
   "id": "e42e6ac4",
   "metadata": {},
   "outputs": [
    {
     "data": {
      "text/plain": [
       "'68'"
      ]
     },
     "execution_count": 46,
     "metadata": {},
     "output_type": "execute_result"
    }
   ],
   "source": [
    "# retweet\n",
    "card.find_element_by_xpath('.//div[@data-testid=\"retweet\"]').text"
   ]
  },
  {
   "cell_type": "code",
   "execution_count": 47,
   "id": "cab3a3b2",
   "metadata": {},
   "outputs": [
    {
     "data": {
      "text/plain": [
       "'272'"
      ]
     },
     "execution_count": 47,
     "metadata": {},
     "output_type": "execute_result"
    }
   ],
   "source": [
    "# Likes\n",
    "card.find_element_by_xpath('.//div[@data-testid=\"like\"]').text"
   ]
  },
  {
   "cell_type": "code",
   "execution_count": 48,
   "id": "4baa882d",
   "metadata": {},
   "outputs": [],
   "source": [
    "def get_tweet_data(card):\n",
    "    \"\"\"Extract data from tweet data\"\"\"\n",
    "    username = card.find_element_by_xpath('.//span').text\n",
    "    handle = card.find_element_by_xpath('.//span[contains(text(), \"@\")]').text\n",
    "    try:\n",
    "        postdate = card.find_element_by_xpath('.//time').get_attribute('datetime')\n",
    "    except NoSuchElementException:\n",
    "        return \n",
    "    comment = card.find_element_by_xpath('.//div[2]/div[2]/div[1]').text\n",
    "    responding = card.find_element_by_xpath('.//div[2]/div[2]/div[2]').text\n",
    "    text = comment + responding\n",
    "    \n",
    "    reply_cnt = card.find_element_by_xpath('.//div[@data-testid=\"reply\"]').text\n",
    "    retweet_cnt = card.find_element_by_xpath('.//div[@data-testid=\"retweet\"]').text\n",
    "    like_cnt = card.find_element_by_xpath('.//div[@data-testid=\"like\"]').text\n",
    "    \n",
    "    tweet = (username, handle, postdate, text, reply_cnt, retweet_cnt, like_cnt)\n",
    "    return tweet"
   ]
  },
  {
   "cell_type": "code",
   "execution_count": 49,
   "id": "bfb209f8",
   "metadata": {},
   "outputs": [
    {
     "data": {
      "text/plain": [
       "('r/EthStaker',\n",
       " '@ethStaker',\n",
       " '2021-08-05T12:10:00.000Z',\n",
       " \"We're about 10 minutes away from starting the London Network Upgrade Livestream Party! \\n\\nIt's not too late to hang out! Join the livestream here:London Network Upgrade Launch Party\\nJoin the EthStaker Discord: invite.gg/ethstakerJoin the EthStaker Reddit: www.reddit.com/r/ethstakerFull Event Details:https://ethstaker.cc/london/The London...\\nyoutube.com\",\n",
       " '14',\n",
       " '68',\n",
       " '272')"
      ]
     },
     "execution_count": 49,
     "metadata": {},
     "output_type": "execute_result"
    }
   ],
   "source": [
    "get_tweet_data(card)"
   ]
  },
  {
   "cell_type": "code",
   "execution_count": 50,
   "id": "5d9db858",
   "metadata": {},
   "outputs": [
    {
     "name": "stdout",
     "output_type": "stream",
     "text": [
      "0\n",
      "end\n",
      "1\n",
      "end\n",
      "2\n",
      "end\n",
      "3\n",
      "end\n",
      "4\n",
      "end\n",
      "5\n",
      "end\n",
      "6\n",
      "end\n",
      "7\n",
      "end\n",
      "8\n",
      "end\n",
      "9\n",
      "end\n",
      "10\n",
      "end\n"
     ]
    }
   ],
   "source": [
    "tweet_data = []\n",
    "idx = 0\n",
    "\n",
    "for card in cards:\n",
    "    print(idx)\n",
    "    idx += 1\n",
    "    data = get_tweet_data(card)\n",
    "    if data:\n",
    "        tweet_data.append(data)\n",
    "    print('end')\n"
   ]
  },
  {
   "cell_type": "code",
   "execution_count": 51,
   "id": "5c74f5cc",
   "metadata": {},
   "outputs": [
    {
     "data": {
      "text/plain": [
       "[('Fight for the Future',\n",
       "  '@fightfortheftr',\n",
       "  '2021-08-04T18:36:05.000Z',\n",
       "  ' #Cryptocurency Red Alert \\n\\nThere is a #Crypto provision hidden in a must-pass bill that will allow mass-surveillance of the crypto-economy. Luckily, an amendment has been introduced that addresses these issues.\\n\\nTell your Senator to support it ASAP at http://fftf.link/savecrypto2',\n",
       "  '293',\n",
       "  '2.2K',\n",
       "  '4.5K'),\n",
       " ('Tim Beiko | timbeiko.eth',\n",
       "  '@TimBeiko',\n",
       "  '2021-08-06T15:53:57.000Z',\n",
       "  'We our first post-London \\n@ethereum\\n #AlllCoreDevs today \\n\\nAgenda: https://github.com/ethereum/pm/issues/365…\\nStream: https://youtu.be/jNxAB3WpAD0\\n\\nRecap below Quote Tweet\\nTim Beiko | timbeiko.eth\\n@TimBeiko\\n · Jul 24\\nAnd that was it! See you all in two weeks \\n\\nOne more time: London is going live before the next ACD, make sure to update your node to a version listed here: https://blog.ethereum.org/2021/07/15/london-mainnet-announcement/…\\nShow this thread',\n",
       "  '50',\n",
       "  '52',\n",
       "  '220'),\n",
       " ('EF Ecosystem Support Program',\n",
       "  '@EF_ESP',\n",
       "  '2021-08-06T16:26:29.000Z',\n",
       "  'Check out our latest grantee roundup: https://blog.ethereum.org/2021/08/06/esp-grantee-roundup-july-21/…\\nThis month features InterRep with contributions from \\n@arcalinea\\n and \\n@RaphaelRoullet\\n, and Compositional Game Engine from \\n@statebox\\n, \\n@_julesh_\\n and \\n@philipp_m_zahnGrantee Roundup: July 2021\\nIt’s always fun to hear about new grants as they’re awarded, but what happens after the announcement? In this series, we’ll check in on a couple of projects that are well underway - or already at the...\\nblog.ethereum.org',\n",
       "  '21',\n",
       "  '44',\n",
       "  '185'),\n",
       " ('Aya Miyaguchi',\n",
       "  '@AyaMiyagotchi',\n",
       "  '2021-08-05T12:55:35.000Z',\n",
       "  'Congratulations to #Ethereum for another big “Kaizen” by working together! Great job \\n@TimBeiko\\n coordinating and everyone who worked so hard to get here',\n",
       "  '31',\n",
       "  '72',\n",
       "  '468'),\n",
       " ('terence.eth',\n",
       "  '@terencechain',\n",
       "  '2021-08-05T12:35:25.000Z',\n",
       "  'London is here! heart felt thank you to everyone that made this happen!\\n\\nNext stop! Altair(eth2), then Merge(eth1+eth2)',\n",
       "  '48',\n",
       "  '134',\n",
       "  '743'),\n",
       " ('r/EthStaker',\n",
       "  '@ethStaker',\n",
       "  '2021-08-05T12:10:00.000Z',\n",
       "  \"We're about 10 minutes away from starting the London Network Upgrade Livestream Party! \\n\\nIt's not too late to hang out! Join the livestream here:London Network Upgrade Launch Party\\nJoin the EthStaker Discord: invite.gg/ethstakerJoin the EthStaker Reddit: www.reddit.com/r/ethstakerFull Event Details:https://ethstaker.cc/london/The London...\\nyoutube.com\",\n",
       "  '14',\n",
       "  '68',\n",
       "  '272'),\n",
       " ('barnabe.eth',\n",
       "  '@barnabemonnot',\n",
       "  '2021-08-05T04:50:03.000Z',\n",
       "  'EIP-1559 is going live today! I am very excited to see all the work that went into it come alive \\n\\nAnd among all the excitement for the burn, I wanted to share a little more about why this mechanism is in place',\n",
       "  '30',\n",
       "  '252',\n",
       "  '1.1K'),\n",
       " ('Tim Beiko | timbeiko.eth',\n",
       "  '@TimBeiko',\n",
       "  '2021-08-04T16:40:26.000Z',\n",
       "  \" London Mining Misconceptions Thread \\n\\nOver the past day or so, I've received a bunch of questions/seen concerns about London activating for miners, so hoping to clear a few things out here \",\n",
       "  '33',\n",
       "  '172',\n",
       "  '480'),\n",
       " ('dannyryan',\n",
       "  '@dannyryan',\n",
       "  '2021-08-04T14:14:32.000Z',\n",
       "  \"All Ethereum (eth2) validators *must* upgrade their PoW (eth1) nodes to keep performing all of their duties!\\n\\nIf you haven't upgraded yet, DO IT NOW\\n\\nFork party in less than 24 hours Quote Tweet\\nNimbus\\n@ethnimbus\\n · Aug 4\\nLess than 24 hours until the London hard fork activates on Ethereum mainnet \\n\\nA friendly reminder that you must update your execution layer (eth1) client before this date\\n\\nIf your eth1 client is not updated then your Nimbus (eth2) client will lose the ability to propose blocks! twitter.com/Cointelegraph/…\\nShow this thread\",\n",
       "  '44',\n",
       "  '108',\n",
       "  '337'),\n",
       " ('Week in Ethereum News',\n",
       "  '@WeekInEthNews',\n",
       "  '2021-07-31T03:16:01.000Z',\n",
       "  \"⟠ Latest Week in Ethereum News!\\n\\n Ethereum's 6th Birthday\\n Merged EIP3675 Upgrade to Proof-of-Stake\\n Lodestar consensus client validating on beacon chain\\n\\nhttps://weekinethereumnews.com/week-in-ethereum-news-july-31-2021…\\n\\nThanks to \\n@NexusMutual\\n for making this issue possible \",\n",
       "  '79',\n",
       "  '86',\n",
       "  '316'),\n",
       " ('Ben Edgington ⟠ benjaminion.eth',\n",
       "  '@benjaminion_xyz',\n",
       "  '2021-07-30T20:39:59.000Z',\n",
       "  \"Bumper #Ethereum  edition of What's New in Eth2 for you!\\n\\n - EIP-3675 and The Merge\\n - Altair\\n - Stakehouse\\n - Lido\\n - EthCC talks\\n - The Beacon Book\\n - Research\\n - Media, and so, so much more...\\n\\nUsual place: http://eth2.news \\n\\n#Eth2What’s New in Eth2 - HackMD\\nA slightly technical update on the latest developments in Ethereum 2.0\\nhackmd.io\",\n",
       "  '67',\n",
       "  '88',\n",
       "  '346')]"
      ]
     },
     "execution_count": 51,
     "metadata": {},
     "output_type": "execute_result"
    }
   ],
   "source": [
    "tweet_data"
   ]
  },
  {
   "cell_type": "code",
   "execution_count": 63,
   "id": "360cc692",
   "metadata": {},
   "outputs": [],
   "source": [
    "driver.execute_script('window.scrollTo(0, document.body.scrollHeight);')"
   ]
  },
  {
   "cell_type": "markdown",
   "id": "7a657014",
   "metadata": {},
   "source": [
    "# Putting it all together"
   ]
  },
  {
   "cell_type": "code",
   "execution_count": 54,
   "id": "c2783ca7",
   "metadata": {},
   "outputs": [],
   "source": [
    "import csv\n",
    "from getpass import getpass\n",
    "from time import sleep\n",
    "from selenium.webdriver.common.keys import Keys\n",
    "from selenium.common.exceptions import NoSuchElementException\n",
    "# from msedge.selenium_tools import Edge, EdgeOptions\n",
    "from selenium import webdriver\n",
    "\n",
    "def get_tweet_data(card):\n",
    "    \"\"\"Extract data from tweet data\"\"\"\n",
    "    username = card.find_element_by_xpath('.//span').text\n",
    "    handle = card.find_element_by_xpath('.//span[contains(text(), \"@\")]').text\n",
    "    try:\n",
    "        postdate = card.find_element_by_xpath('.//time').get_attribute('datetime')\n",
    "    except NoSuchElementException:\n",
    "        return \n",
    "    comment = card.find_element_by_xpath('.//div[2]/div[2]/div[1]').text\n",
    "    responding = card.find_element_by_xpath('.//div[2]/div[2]/div[2]').text\n",
    "    text = comment + responding\n",
    "    \n",
    "    reply_cnt = card.find_element_by_xpath('.//div[@data-testid=\"reply\"]').text\n",
    "    retweet_cnt = card.find_element_by_xpath('.//div[@data-testid=\"retweet\"]').text\n",
    "    like_cnt = card.find_element_by_xpath('.//div[@data-testid=\"like\"]').text\n",
    "    \n",
    "    tweet = (username, handle, postdate, text, reply_cnt, retweet_cnt, like_cnt)\n",
    "    return tweet\n",
    "\n",
    "\n",
    "driver = webdriver.Chrome('C:/Users/choi/chromedriver')\n",
    "\n",
    "# 암묵적으로 웹 자원 로드를 위해 3초까지 기다려 준다.\n",
    "driver.implicitly_wait(3)\n",
    "driver.get('https://www.twitter.com/login')\n",
    "driver.maximize_window()\n",
    "\n",
    "username = driver.find_element_by_xpath('//input[@name=\"session[username_or_email]\"]')\n",
    "username.send_keys('sparrow42@naver.com')\n",
    "\n",
    "password = driver.find_element_by_xpath('//input[@name=\"session[password]\"]')\n",
    "password.send_keys('1234qwerasdf')\n",
    "password.send_keys(Keys.RETURN)\n",
    "\n",
    "# find search input and search for term\n",
    "driver.get('https://www.twitter.com/VitalikButerin')\n",
    "\n",
    "# get all tweets on the page\n",
    "data = []\n",
    "tweet_ids = set()\n",
    "last_position = driver.execute_script(\"return window.pageYOffset;\")\n",
    "scrolling = True\n",
    "\n",
    "while scrolling:\n",
    "    page_cards = driver.find_elements_by_xpath('//div[@data-testid=\"tweet\"]')\n",
    "    for card in page_cards[-15:]:\n",
    "        tweet = get_tweet_data(card)\n",
    "        if tweet:\n",
    "            tweet_id = ''.join(tweet)\n",
    "            if tweet_id not in tweet_ids:\n",
    "                tweet_ids.add(tweet_id)\n",
    "                data.append(tweet)\n",
    "                \n",
    "    scroll_attempt = 0\n",
    "    while True:\n",
    "        # check scroll position\n",
    "        driver.execute_script('window.scrollTo(0, document.body.scrollHeight);')\n",
    "        sleep(1)\n",
    "        curr_position = driver.execute_script(\"return window.pageYOffset;\")\n",
    "        if last_position == curr_position:\n",
    "            scroll_attempt += 1\n",
    "            \n",
    "            # end of scroll region\n",
    "            if scroll_attempt >=  3:\n",
    "                scrolling = False\n",
    "                break\n",
    "            else:\n",
    "                sleep(2) # attempt to scroll again\n",
    "                \n",
    "        else:\n",
    "            last_position = curr_position\n",
    "            break\n",
    "            "
   ]
  },
  {
   "cell_type": "code",
   "execution_count": 55,
   "id": "a4a5eba0",
   "metadata": {},
   "outputs": [
    {
     "data": {
      "text/plain": [
       "536"
      ]
     },
     "execution_count": 55,
     "metadata": {},
     "output_type": "execute_result"
    }
   ],
   "source": [
    "len(data)"
   ]
  },
  {
   "cell_type": "code",
   "execution_count": 57,
   "id": "09280be8",
   "metadata": {},
   "outputs": [],
   "source": [
    "with open('VitalikButerin_tweets.csv', 'w', newline='', encoding='utf-8') as f:\n",
    "    header = ['UserName', 'Handle', 'Timestamp', 'Comments', 'Likes', 'Retweets', 'Text']\n",
    "    writer = csv.writer(f)\n",
    "    writer.writerow(header)\n",
    "    writer.writerows(data)"
   ]
  },
  {
   "cell_type": "code",
   "execution_count": 58,
   "id": "2897fa1e",
   "metadata": {},
   "outputs": [
    {
     "data": {
      "text/html": [
       "<div>\n",
       "<style scoped>\n",
       "    .dataframe tbody tr th:only-of-type {\n",
       "        vertical-align: middle;\n",
       "    }\n",
       "\n",
       "    .dataframe tbody tr th {\n",
       "        vertical-align: top;\n",
       "    }\n",
       "\n",
       "    .dataframe thead th {\n",
       "        text-align: right;\n",
       "    }\n",
       "</style>\n",
       "<table border=\"1\" class=\"dataframe\">\n",
       "  <thead>\n",
       "    <tr style=\"text-align: right;\">\n",
       "      <th></th>\n",
       "      <th>UserName</th>\n",
       "      <th>Handle</th>\n",
       "      <th>Timestamp</th>\n",
       "      <th>Comments</th>\n",
       "      <th>Likes</th>\n",
       "      <th>Retweets</th>\n",
       "      <th>Text</th>\n",
       "    </tr>\n",
       "  </thead>\n",
       "  <tbody>\n",
       "    <tr>\n",
       "      <th>0</th>\n",
       "      <td>vitalik.eth</td>\n",
       "      <td>@VitalikButerin</td>\n",
       "      <td>2020-06-18T22:22:18.000Z</td>\n",
       "      <td>Things I'm excited about (incomplete list)\\n\\n...</td>\n",
       "      <td>1만</td>\n",
       "      <td>2.6천</td>\n",
       "      <td>1.5만</td>\n",
       "    </tr>\n",
       "    <tr>\n",
       "      <th>1</th>\n",
       "      <td>vitalik.eth</td>\n",
       "      <td>@VitalikButerin</td>\n",
       "      <td>2021-08-06T08:54:37.000Z</td>\n",
       "      <td>How full blocks are in a range of EIP 1559 blo...</td>\n",
       "      <td>640</td>\n",
       "      <td>774</td>\n",
       "      <td>5.3천</td>\n",
       "    </tr>\n",
       "    <tr>\n",
       "      <th>2</th>\n",
       "      <td>Pooja Ranjan | ranjan.eth</td>\n",
       "      <td>@poojaranjan19</td>\n",
       "      <td>2021-06-07T13:00:00.000Z</td>\n",
       "      <td>Altair: Beacon chain upgrade \\n@dannyryan\\n &amp;...</td>\n",
       "      <td>303</td>\n",
       "      <td>116</td>\n",
       "      <td>663</td>\n",
       "    </tr>\n",
       "    <tr>\n",
       "      <th>3</th>\n",
       "      <td>Lex Fridman</td>\n",
       "      <td>@lexfridman</td>\n",
       "      <td>2021-06-03T21:08:31.000Z</td>\n",
       "      <td>Here's my conversation with \\n@VitalikButerin\\...</td>\n",
       "      <td>1.6천</td>\n",
       "      <td>4천</td>\n",
       "      <td>2.2만</td>\n",
       "    </tr>\n",
       "    <tr>\n",
       "      <th>4</th>\n",
       "      <td>vitalik.eth</td>\n",
       "      <td>@VitalikButerin</td>\n",
       "      <td>2021-05-25T21:07:51.000Z</td>\n",
       "      <td>Blockchain voting is overrated among uninforme...</td>\n",
       "      <td>2.3천</td>\n",
       "      <td>5.4천</td>\n",
       "      <td>1.3만</td>\n",
       "    </tr>\n",
       "    <tr>\n",
       "      <th>...</th>\n",
       "      <td>...</td>\n",
       "      <td>...</td>\n",
       "      <td>...</td>\n",
       "      <td>...</td>\n",
       "      <td>...</td>\n",
       "      <td>...</td>\n",
       "      <td>...</td>\n",
       "    </tr>\n",
       "    <tr>\n",
       "      <th>531</th>\n",
       "      <td>vitalik.eth</td>\n",
       "      <td>@VitalikButerin</td>\n",
       "      <td>2020-06-02T14:00:09.000Z</td>\n",
       "      <td>Yes, the money printer did go brrrrr. But that...</td>\n",
       "      <td>14</td>\n",
       "      <td>17</td>\n",
       "      <td>265</td>\n",
       "    </tr>\n",
       "    <tr>\n",
       "      <th>532</th>\n",
       "      <td>vitalik.eth</td>\n",
       "      <td>@VitalikButerin</td>\n",
       "      <td>2020-06-02T14:00:09.000Z</td>\n",
       "      <td>2020 is first and foremost *not* a financial c...</td>\n",
       "      <td>18</td>\n",
       "      <td>83</td>\n",
       "      <td>526</td>\n",
       "    </tr>\n",
       "    <tr>\n",
       "      <th>533</th>\n",
       "      <td>vitalik.eth</td>\n",
       "      <td>@VitalikButerin</td>\n",
       "      <td>2020-06-02T14:00:08.000Z</td>\n",
       "      <td>And bitcoin itself is primarily a financial to...</td>\n",
       "      <td>3</td>\n",
       "      <td>18</td>\n",
       "      <td>303</td>\n",
       "    </tr>\n",
       "    <tr>\n",
       "      <th>534</th>\n",
       "      <td>vitalik.eth</td>\n",
       "      <td>@VitalikButerin</td>\n",
       "      <td>2020-06-02T14:00:08.000Z</td>\n",
       "      <td>Bitcoin was born out of a crisis that was fund...</td>\n",
       "      <td>15</td>\n",
       "      <td>41</td>\n",
       "      <td>321</td>\n",
       "    </tr>\n",
       "    <tr>\n",
       "      <th>535</th>\n",
       "      <td>vitalik.eth</td>\n",
       "      <td>@VitalikButerin</td>\n",
       "      <td>2020-06-02T14:00:07.000Z</td>\n",
       "      <td>On 2008 vs 2020, and what it means for crypto(...</td>\n",
       "      <td>74</td>\n",
       "      <td>501</td>\n",
       "      <td>1.5천</td>\n",
       "    </tr>\n",
       "  </tbody>\n",
       "</table>\n",
       "<p>536 rows × 7 columns</p>\n",
       "</div>"
      ],
      "text/plain": [
       "                      UserName           Handle                 Timestamp  \\\n",
       "0                  vitalik.eth  @VitalikButerin  2020-06-18T22:22:18.000Z   \n",
       "1                  vitalik.eth  @VitalikButerin  2021-08-06T08:54:37.000Z   \n",
       "2    Pooja Ranjan | ranjan.eth   @poojaranjan19  2021-06-07T13:00:00.000Z   \n",
       "3                  Lex Fridman      @lexfridman  2021-06-03T21:08:31.000Z   \n",
       "4                  vitalik.eth  @VitalikButerin  2021-05-25T21:07:51.000Z   \n",
       "..                         ...              ...                       ...   \n",
       "531                vitalik.eth  @VitalikButerin  2020-06-02T14:00:09.000Z   \n",
       "532                vitalik.eth  @VitalikButerin  2020-06-02T14:00:09.000Z   \n",
       "533                vitalik.eth  @VitalikButerin  2020-06-02T14:00:08.000Z   \n",
       "534                vitalik.eth  @VitalikButerin  2020-06-02T14:00:08.000Z   \n",
       "535                vitalik.eth  @VitalikButerin  2020-06-02T14:00:07.000Z   \n",
       "\n",
       "                                              Comments Likes Retweets  Text  \n",
       "0    Things I'm excited about (incomplete list)\\n\\n...    1만     2.6천  1.5만  \n",
       "1    How full blocks are in a range of EIP 1559 blo...   640      774  5.3천  \n",
       "2     Altair: Beacon chain upgrade \\n@dannyryan\\n &...   303      116   663  \n",
       "3    Here's my conversation with \\n@VitalikButerin\\...  1.6천       4천  2.2만  \n",
       "4    Blockchain voting is overrated among uninforme...  2.3천     5.4천  1.3만  \n",
       "..                                                 ...   ...      ...   ...  \n",
       "531  Yes, the money printer did go brrrrr. But that...    14       17   265  \n",
       "532  2020 is first and foremost *not* a financial c...    18       83   526  \n",
       "533  And bitcoin itself is primarily a financial to...     3       18   303  \n",
       "534  Bitcoin was born out of a crisis that was fund...    15       41   321  \n",
       "535  On 2008 vs 2020, and what it means for crypto(...    74      501  1.5천  \n",
       "\n",
       "[536 rows x 7 columns]"
      ]
     },
     "execution_count": 58,
     "metadata": {},
     "output_type": "execute_result"
    }
   ],
   "source": [
    "import pandas as pd\n",
    "\n",
    "tt = pd.read_csv('VitalikButerin_tweets.csv')\n",
    "tt"
   ]
  },
  {
   "cell_type": "code",
   "execution_count": null,
   "id": "f1e6a763",
   "metadata": {},
   "outputs": [],
   "source": []
  }
 ],
 "metadata": {
  "kernelspec": {
   "display_name": "Python 3",
   "language": "python",
   "name": "python3"
  },
  "language_info": {
   "codemirror_mode": {
    "name": "ipython",
    "version": 3
   },
   "file_extension": ".py",
   "mimetype": "text/x-python",
   "name": "python",
   "nbconvert_exporter": "python",
   "pygments_lexer": "ipython3",
   "version": "3.8.8"
  }
 },
 "nbformat": 4,
 "nbformat_minor": 5
}
