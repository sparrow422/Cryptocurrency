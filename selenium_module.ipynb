{
 "cells": [
  {
   "cell_type": "markdown",
   "id": "7a657014",
   "metadata": {},
   "source": [
    "# Putting it all together\n",
    "\n",
    "### @binance, @justinsuntron, @rogerkver, @cz_binance, @brian_armstrong, @NickSzabo4, @ethereum,\n",
    "### @blockchain, @CoinDesk, @BitcoinMagazine, @VitalikButerin"
   ]
  },
  {
   "cell_type": "code",
   "execution_count": 1,
   "id": "c2783ca7",
   "metadata": {
    "ExecuteTime": {
     "end_time": "2021-08-17T13:53:04.164662Z",
     "start_time": "2021-08-17T13:49:49.530059Z"
    }
   },
   "outputs": [
    {
     "name": "stdout",
     "output_type": "stream",
     "text": [
      "VitalikButerin  데이터 수집 시작\n",
      "VitalikButerin 길이 :  429\n"
     ]
    }
   ],
   "source": [
    "import csv\n",
    "from getpass import getpass\n",
    "from time import sleep\n",
    "from selenium.webdriver.common.keys import Keys\n",
    "from selenium.common.exceptions import NoSuchElementException\n",
    "# from msedge.selenium_tools import Edge, EdgeOptions\n",
    "from selenium import webdriver\n",
    "\n",
    "def get_tweet_data(card):\n",
    "    \"\"\"Extract data from tweet data\"\"\"\n",
    "    username = card.find_element_by_xpath('.//span').text\n",
    "    handle = card.find_element_by_xpath('.//span[contains(text(), \"@\")]').text\n",
    "    try:\n",
    "        postdate = card.find_element_by_xpath('.//time').get_attribute('datetime')\n",
    "    except NoSuchElementException:\n",
    "        return \n",
    "    comment = card.find_element_by_xpath('.//div[2]/div[2]/div[1]').text\n",
    "    responding = card.find_element_by_xpath('.//div[2]/div[2]/div[2]').text\n",
    "    text = comment + responding\n",
    "    \n",
    "    reply_cnt = card.find_element_by_xpath('.//div[@data-testid=\"reply\"]').text\n",
    "    retweet_cnt = card.find_element_by_xpath('.//div[@data-testid=\"retweet\"]').text\n",
    "    like_cnt = card.find_element_by_xpath('.//div[@data-testid=\"like\"]').text\n",
    "    \n",
    "    tweet = (username, handle, postdate, text, reply_cnt, retweet_cnt, like_cnt)\n",
    "    return tweet\n",
    "\n",
    "# tweet_list = [\"binance\", \"justinsuntron\", \"rogerkver\", \"cz_binance\", \"brian_armstrong\", \"NickSzabo4\", \"ethereum\", \n",
    "#              \"blockchain\", \"CoinDesk\", \"BitcoinMagazine\"]\n",
    "tweet_list = ['VitalikButerin']\n",
    "\n",
    "\n",
    "driver = webdriver.Chrome('C:/Users/choi/chromedriver')\n",
    "\n",
    "# 암묵적으로 웹 자원 로드를 위해 3초까지 기다려 준다.\n",
    "driver.implicitly_wait(3)\n",
    "driver.get('https://www.twitter.com/login')\n",
    "driver.maximize_window()\n",
    "\n",
    "username = driver.find_element_by_xpath('//input[@name=\"session[username_or_email]\"]')\n",
    "username.send_keys('sparrow42@naver.com')\n",
    "\n",
    "password = driver.find_element_by_xpath('//input[@name=\"session[password]\"]')\n",
    "password.send_keys('1234qwerasdf')\n",
    "password.send_keys(Keys.RETURN)\n",
    "\n",
    "for tw in tweet_list:\n",
    "    print(tw, ' 데이터 수집 시작')\n",
    "    # find search input and search for term\n",
    "    driver.get('https://www.twitter.com/'+tw)\n",
    "\n",
    "    # get all tweets on the page\n",
    "    data = []\n",
    "    tweet_ids = set()\n",
    "    last_position = driver.execute_script(\"return window.pageYOffset;\")\n",
    "    scrolling = True\n",
    "\n",
    "    while scrolling:\n",
    "        page_cards = driver.find_elements_by_xpath('//div[@data-testid=\"tweet\"]')\n",
    "        for card in page_cards[-15:]:\n",
    "            tweet = get_tweet_data(card)\n",
    "            if tweet:\n",
    "                tweet_id = ''.join(tweet)\n",
    "                if tweet_id not in tweet_ids:\n",
    "                    tweet_ids.add(tweet_id)\n",
    "                    data.append(tweet)\n",
    "\n",
    "        scroll_attempt = 0\n",
    "        while True:\n",
    "            # check scroll position\n",
    "            driver.execute_script('window.scrollTo(0, document.body.scrollHeight);')\n",
    "            sleep(1)\n",
    "            curr_position = driver.execute_script(\"return window.pageYOffset;\")\n",
    "            if last_position == curr_position:\n",
    "                scroll_attempt += 1\n",
    "\n",
    "                # end of scroll region\n",
    "                if scroll_attempt >=  3:\n",
    "                    scrolling = False\n",
    "                    break\n",
    "                else:\n",
    "                    sleep(2) # attempt to scroll again\n",
    "\n",
    "            else:\n",
    "                last_position = curr_position\n",
    "                break\n",
    "\n",
    "    print(tw+' 길이 : ', len(data))\n",
    "\n",
    "    # 파일 쓰기\n",
    "    with open(tw+'_tweets.csv', 'w', newline='', encoding='utf-8') as f:\n",
    "        header = ['UserName', 'Handle', 'Timestamp', 'Comments', 'Likes', 'Retweets', 'Text']\n",
    "        writer = csv.writer(f)\n",
    "        writer.writerow(header)\n",
    "        writer.writerows(data)"
   ]
  },
  {
   "cell_type": "code",
   "execution_count": null,
   "id": "f1e6a763",
   "metadata": {},
   "outputs": [],
   "source": []
  }
 ],
 "metadata": {
  "kernelspec": {
   "display_name": "Python 3",
   "language": "python",
   "name": "python3"
  },
  "language_info": {
   "codemirror_mode": {
    "name": "ipython",
    "version": 3
   },
   "file_extension": ".py",
   "mimetype": "text/x-python",
   "name": "python",
   "nbconvert_exporter": "python",
   "pygments_lexer": "ipython3",
   "version": "3.8.8"
  }
 },
 "nbformat": 4,
 "nbformat_minor": 5
}
