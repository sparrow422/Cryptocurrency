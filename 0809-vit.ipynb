{
 "cells": [
  {
   "cell_type": "code",
   "execution_count": 1,
   "id": "4c3742f6",
   "metadata": {},
   "outputs": [],
   "source": [
    "from textblob import TextBlob\n",
    "import sys\n",
    "import tweepy\n",
    "import matplotlib.pyplot as plt\n",
    "import pandas as pd\n",
    "import numpy as np\n",
    "import os\n",
    "import nltk\n",
    "import pycountry\n",
    "import re\n",
    "import string\n",
    "import seaborn as sns\n",
    "from datetime import datetime\n",
    "\n",
    "from wordcloud import WordCloud, STOPWORDS\n",
    "from PIL import Image\n",
    "from nltk.sentiment.vader import SentimentIntensityAnalyzer\n",
    "from langdetect import detect\n",
    "from nltk.stem import SnowballStemmer\n",
    "from sklearn.feature_extraction.text import CountVectorizer"
   ]
  },
  {
   "cell_type": "code",
   "execution_count": 2,
   "id": "2e94cfb4",
   "metadata": {},
   "outputs": [
    {
     "name": "stderr",
     "output_type": "stream",
     "text": [
      "[nltk_data] Downloading package vader_lexicon to\n",
      "[nltk_data]     C:\\Users\\choi\\AppData\\Roaming\\nltk_data...\n",
      "[nltk_data]   Package vader_lexicon is already up-to-date!\n"
     ]
    },
    {
     "data": {
      "text/plain": [
       "True"
      ]
     },
     "execution_count": 2,
     "metadata": {},
     "output_type": "execute_result"
    }
   ],
   "source": [
    "import nltk\n",
    "nltk.download('vader_lexicon')"
   ]
  },
  {
   "cell_type": "code",
   "execution_count": 3,
   "id": "4ee3d3bd",
   "metadata": {},
   "outputs": [
    {
     "data": {
      "text/html": [
       "<div>\n",
       "<style scoped>\n",
       "    .dataframe tbody tr th:only-of-type {\n",
       "        vertical-align: middle;\n",
       "    }\n",
       "\n",
       "    .dataframe tbody tr th {\n",
       "        vertical-align: top;\n",
       "    }\n",
       "\n",
       "    .dataframe thead th {\n",
       "        text-align: right;\n",
       "    }\n",
       "</style>\n",
       "<table border=\"1\" class=\"dataframe\">\n",
       "  <thead>\n",
       "    <tr style=\"text-align: right;\">\n",
       "      <th></th>\n",
       "      <th>Timestamp</th>\n",
       "      <th>Comments</th>\n",
       "    </tr>\n",
       "  </thead>\n",
       "  <tbody>\n",
       "    <tr>\n",
       "      <th>0</th>\n",
       "      <td>2020-06-18 09:00:00</td>\n",
       "      <td>Things I'm excited about (incomplete list)\n",
       "\n",
       "* ...</td>\n",
       "    </tr>\n",
       "    <tr>\n",
       "      <th>1</th>\n",
       "      <td>2021-08-06 09:00:00</td>\n",
       "      <td>How full blocks are in a range of EIP 1559 blo...</td>\n",
       "    </tr>\n",
       "    <tr>\n",
       "      <th>2</th>\n",
       "      <td>2021-06-07 09:00:00</td>\n",
       "      <td>Altair: Beacon chain upgrade \n",
       "@dannyryan\n",
       " &amp; \n",
       "...</td>\n",
       "    </tr>\n",
       "    <tr>\n",
       "      <th>3</th>\n",
       "      <td>2021-06-03 09:00:00</td>\n",
       "      <td>Here's my conversation with \n",
       "@VitalikButerin\n",
       ",...</td>\n",
       "    </tr>\n",
       "    <tr>\n",
       "      <th>4</th>\n",
       "      <td>2021-05-25 09:00:00</td>\n",
       "      <td>Blockchain voting is overrated among uninforme...</td>\n",
       "    </tr>\n",
       "    <tr>\n",
       "      <th>...</th>\n",
       "      <td>...</td>\n",
       "      <td>...</td>\n",
       "    </tr>\n",
       "    <tr>\n",
       "      <th>531</th>\n",
       "      <td>2020-06-02 09:00:00</td>\n",
       "      <td>Yes, the money printer did go brrrrr. But that...</td>\n",
       "    </tr>\n",
       "    <tr>\n",
       "      <th>532</th>\n",
       "      <td>2020-06-02 09:00:00</td>\n",
       "      <td>2020 is first and foremost *not* a financial c...</td>\n",
       "    </tr>\n",
       "    <tr>\n",
       "      <th>533</th>\n",
       "      <td>2020-06-02 09:00:00</td>\n",
       "      <td>And bitcoin itself is primarily a financial to...</td>\n",
       "    </tr>\n",
       "    <tr>\n",
       "      <th>534</th>\n",
       "      <td>2020-06-02 09:00:00</td>\n",
       "      <td>Bitcoin was born out of a crisis that was fund...</td>\n",
       "    </tr>\n",
       "    <tr>\n",
       "      <th>535</th>\n",
       "      <td>2020-06-02 09:00:00</td>\n",
       "      <td>On 2008 vs 2020, and what it means for crypto(...</td>\n",
       "    </tr>\n",
       "  </tbody>\n",
       "</table>\n",
       "<p>536 rows × 2 columns</p>\n",
       "</div>"
      ],
      "text/plain": [
       "              Timestamp                                           Comments\n",
       "0   2020-06-18 09:00:00  Things I'm excited about (incomplete list)\n",
       "\n",
       "* ...\n",
       "1   2021-08-06 09:00:00  How full blocks are in a range of EIP 1559 blo...\n",
       "2   2021-06-07 09:00:00   Altair: Beacon chain upgrade \n",
       "@dannyryan\n",
       " & \n",
       "...\n",
       "3   2021-06-03 09:00:00  Here's my conversation with \n",
       "@VitalikButerin\n",
       ",...\n",
       "4   2021-05-25 09:00:00  Blockchain voting is overrated among uninforme...\n",
       "..                  ...                                                ...\n",
       "531 2020-06-02 09:00:00  Yes, the money printer did go brrrrr. But that...\n",
       "532 2020-06-02 09:00:00  2020 is first and foremost *not* a financial c...\n",
       "533 2020-06-02 09:00:00  And bitcoin itself is primarily a financial to...\n",
       "534 2020-06-02 09:00:00  Bitcoin was born out of a crisis that was fund...\n",
       "535 2020-06-02 09:00:00  On 2008 vs 2020, and what it means for crypto(...\n",
       "\n",
       "[536 rows x 2 columns]"
      ]
     },
     "execution_count": 3,
     "metadata": {},
     "output_type": "execute_result"
    }
   ],
   "source": [
    "pd_tweets = pd.read_csv('VitalikButerin_tweets.csv')\n",
    "pd_tweets = pd_tweets.drop(['UserName', \"Handle\", \"Likes\", \"Retweets\", \"Text\"], axis=1)\n",
    "pd_tweets = pd_tweets.astype({'Comments' : 'string'})\n",
    "# pd_tweets['Timestamp'] = pd_tweets['Timestamp'].apply(lambda x: datetime.strptime(x[:10] + ' ' + x[11:19], '%Y-%m-%d %H:%M:%S'))\n",
    "pd_tweets['Timestamp'] = pd_tweets['Timestamp'].apply(lambda x: datetime.strptime(x[:10] + ' ' + '09:00:00', '%Y-%m-%d %H:%M:%S'))\n",
    "pd_tweets"
   ]
  },
  {
   "cell_type": "code",
   "execution_count": 4,
   "id": "503ce1b4",
   "metadata": {},
   "outputs": [
    {
     "name": "stdout",
     "output_type": "stream",
     "text": [
      "<class 'pandas.core.frame.DataFrame'>\n",
      "RangeIndex: 536 entries, 0 to 535\n",
      "Data columns (total 2 columns):\n",
      " #   Column     Non-Null Count  Dtype         \n",
      "---  ------     --------------  -----         \n",
      " 0   Timestamp  536 non-null    datetime64[ns]\n",
      " 1   Comments   535 non-null    string        \n",
      "dtypes: datetime64[ns](1), string(1)\n",
      "memory usage: 8.5 KB\n"
     ]
    }
   ],
   "source": [
    "pd_tweets.info()"
   ]
  },
  {
   "cell_type": "code",
   "execution_count": 5,
   "id": "2f7887e8",
   "metadata": {},
   "outputs": [
    {
     "data": {
      "text/html": [
       "<div>\n",
       "<style scoped>\n",
       "    .dataframe tbody tr th:only-of-type {\n",
       "        vertical-align: middle;\n",
       "    }\n",
       "\n",
       "    .dataframe tbody tr th {\n",
       "        vertical-align: top;\n",
       "    }\n",
       "\n",
       "    .dataframe thead th {\n",
       "        text-align: right;\n",
       "    }\n",
       "</style>\n",
       "<table border=\"1\" class=\"dataframe\">\n",
       "  <thead>\n",
       "    <tr style=\"text-align: right;\">\n",
       "      <th></th>\n",
       "      <th>Timestamp</th>\n",
       "      <th>Comments</th>\n",
       "      <th>text_processed</th>\n",
       "    </tr>\n",
       "  </thead>\n",
       "  <tbody>\n",
       "    <tr>\n",
       "      <th>0</th>\n",
       "      <td>2020-06-18 09:00:00</td>\n",
       "      <td>Things I'm excited about (incomplete list)\n",
       "\n",
       "* ...</td>\n",
       "      <td>things i m excited about  incomplete list     ...</td>\n",
       "    </tr>\n",
       "    <tr>\n",
       "      <th>1</th>\n",
       "      <td>2021-08-06 09:00:00</td>\n",
       "      <td>How full blocks are in a range of EIP 1559 blo...</td>\n",
       "      <td>how full blocks are in a range of eip    9 blo...</td>\n",
       "    </tr>\n",
       "    <tr>\n",
       "      <th>2</th>\n",
       "      <td>2021-06-07 09:00:00</td>\n",
       "      <td>Altair: Beacon chain upgrade \n",
       "@dannyryan\n",
       " &amp; \n",
       "...</td>\n",
       "      <td>altair  beacon chain upgrade           shared...</td>\n",
       "    </tr>\n",
       "    <tr>\n",
       "      <th>3</th>\n",
       "      <td>2021-06-03 09:00:00</td>\n",
       "      <td>Here's my conversation with \n",
       "@VitalikButerin\n",
       ",...</td>\n",
       "      <td>here s my conversation with      his second ti...</td>\n",
       "    </tr>\n",
       "    <tr>\n",
       "      <th>4</th>\n",
       "      <td>2021-05-25 09:00:00</td>\n",
       "      <td>Blockchain voting is overrated among uninforme...</td>\n",
       "      <td>blockchain voting is overrated among uninforme...</td>\n",
       "    </tr>\n",
       "    <tr>\n",
       "      <th>...</th>\n",
       "      <td>...</td>\n",
       "      <td>...</td>\n",
       "      <td>...</td>\n",
       "    </tr>\n",
       "    <tr>\n",
       "      <th>531</th>\n",
       "      <td>2020-06-02 09:00:00</td>\n",
       "      <td>Yes, the money printer did go brrrrr. But that...</td>\n",
       "      <td>yes  the money printer did go brrrrr  but that...</td>\n",
       "    </tr>\n",
       "    <tr>\n",
       "      <th>532</th>\n",
       "      <td>2020-06-02 09:00:00</td>\n",
       "      <td>2020 is first and foremost *not* a financial c...</td>\n",
       "      <td>is first and foremost  not  a financial c...</td>\n",
       "    </tr>\n",
       "    <tr>\n",
       "      <th>533</th>\n",
       "      <td>2020-06-02 09:00:00</td>\n",
       "      <td>And bitcoin itself is primarily a financial to...</td>\n",
       "      <td>and bitcoin itself is primarily a financial to...</td>\n",
       "    </tr>\n",
       "    <tr>\n",
       "      <th>534</th>\n",
       "      <td>2020-06-02 09:00:00</td>\n",
       "      <td>Bitcoin was born out of a crisis that was fund...</td>\n",
       "      <td>bitcoin was born out of a crisis that was fund...</td>\n",
       "    </tr>\n",
       "    <tr>\n",
       "      <th>535</th>\n",
       "      <td>2020-06-02 09:00:00</td>\n",
       "      <td>On 2008 vs 2020, and what it means for crypto(...</td>\n",
       "      <td>on      vs       and what it means for crypto ...</td>\n",
       "    </tr>\n",
       "  </tbody>\n",
       "</table>\n",
       "<p>536 rows × 3 columns</p>\n",
       "</div>"
      ],
      "text/plain": [
       "              Timestamp                                           Comments  \\\n",
       "0   2020-06-18 09:00:00  Things I'm excited about (incomplete list)\n",
       "\n",
       "* ...   \n",
       "1   2021-08-06 09:00:00  How full blocks are in a range of EIP 1559 blo...   \n",
       "2   2021-06-07 09:00:00   Altair: Beacon chain upgrade \n",
       "@dannyryan\n",
       " & \n",
       "...   \n",
       "3   2021-06-03 09:00:00  Here's my conversation with \n",
       "@VitalikButerin\n",
       ",...   \n",
       "4   2021-05-25 09:00:00  Blockchain voting is overrated among uninforme...   \n",
       "..                  ...                                                ...   \n",
       "531 2020-06-02 09:00:00  Yes, the money printer did go brrrrr. But that...   \n",
       "532 2020-06-02 09:00:00  2020 is first and foremost *not* a financial c...   \n",
       "533 2020-06-02 09:00:00  And bitcoin itself is primarily a financial to...   \n",
       "534 2020-06-02 09:00:00  Bitcoin was born out of a crisis that was fund...   \n",
       "535 2020-06-02 09:00:00  On 2008 vs 2020, and what it means for crypto(...   \n",
       "\n",
       "                                        text_processed  \n",
       "0    things i m excited about  incomplete list     ...  \n",
       "1    how full blocks are in a range of eip    9 blo...  \n",
       "2     altair  beacon chain upgrade           shared...  \n",
       "3    here s my conversation with      his second ti...  \n",
       "4    blockchain voting is overrated among uninforme...  \n",
       "..                                                 ...  \n",
       "531  yes  the money printer did go brrrrr  but that...  \n",
       "532       is first and foremost  not  a financial c...  \n",
       "533  and bitcoin itself is primarily a financial to...  \n",
       "534  bitcoin was born out of a crisis that was fund...  \n",
       "535  on      vs       and what it means for crypto ...  \n",
       "\n",
       "[536 rows x 3 columns]"
      ]
     },
     "execution_count": 5,
     "metadata": {},
     "output_type": "execute_result"
    }
   ],
   "source": [
    "#Cleaning Text (RT, Punctuation etc)\n",
    "\n",
    "#Creating new dataframe and new features\n",
    "tw_list = pd.DataFrame(pd_tweets)\n",
    "tw_list['text_processed'] = tw_list['Comments']\n",
    "\n",
    "#Removing RT, Punctuation etc\n",
    "remove_rt = lambda x: re.sub('RT @\\w+: ',' ' ,str(x))\n",
    "rt = lambda x: re.sub('(@[A-Za-z0–9]+)|([^-9A-Za-z \\t])|(\\+:\\/\\/\\S+)',' ' ,str(x))\n",
    "tw_list['text_processed'] = tw_list.text_processed.map(remove_rt).map(rt)\n",
    "tw_list['text_processed'] = tw_list.text_processed.str.lower()\n",
    "tw_list"
   ]
  },
  {
   "cell_type": "code",
   "execution_count": 6,
   "id": "d708e446",
   "metadata": {},
   "outputs": [
    {
     "name": "stdout",
     "output_type": "stream",
     "text": [
      "<class 'pandas.core.frame.DataFrame'>\n",
      "RangeIndex: 536 entries, 0 to 535\n",
      "Data columns (total 3 columns):\n",
      " #   Column          Non-Null Count  Dtype         \n",
      "---  ------          --------------  -----         \n",
      " 0   Timestamp       536 non-null    datetime64[ns]\n",
      " 1   Comments        535 non-null    string        \n",
      " 2   text_processed  536 non-null    object        \n",
      "dtypes: datetime64[ns](1), object(1), string(1)\n",
      "memory usage: 12.7+ KB\n"
     ]
    }
   ],
   "source": [
    "tw_list.info()"
   ]
  },
  {
   "cell_type": "code",
   "execution_count": 7,
   "id": "997832c2",
   "metadata": {},
   "outputs": [
    {
     "data": {
      "text/html": [
       "<div>\n",
       "<style scoped>\n",
       "    .dataframe tbody tr th:only-of-type {\n",
       "        vertical-align: middle;\n",
       "    }\n",
       "\n",
       "    .dataframe tbody tr th {\n",
       "        vertical-align: top;\n",
       "    }\n",
       "\n",
       "    .dataframe thead th {\n",
       "        text-align: right;\n",
       "    }\n",
       "</style>\n",
       "<table border=\"1\" class=\"dataframe\">\n",
       "  <thead>\n",
       "    <tr style=\"text-align: right;\">\n",
       "      <th></th>\n",
       "      <th>Timestamp</th>\n",
       "      <th>Comments</th>\n",
       "      <th>text_processed</th>\n",
       "      <th>sentiment</th>\n",
       "      <th>neg</th>\n",
       "      <th>neu</th>\n",
       "      <th>pos</th>\n",
       "      <th>compound</th>\n",
       "    </tr>\n",
       "  </thead>\n",
       "  <tbody>\n",
       "    <tr>\n",
       "      <th>0</th>\n",
       "      <td>2020-06-18 09:00:00</td>\n",
       "      <td>Things I'm excited about (incomplete list)\n",
       "\n",
       "* ...</td>\n",
       "      <td>things i m excited about  incomplete list     ...</td>\n",
       "      <td>positive</td>\n",
       "      <td>0.098</td>\n",
       "      <td>0.744</td>\n",
       "      <td>0.158</td>\n",
       "      <td>0.2500</td>\n",
       "    </tr>\n",
       "    <tr>\n",
       "      <th>1</th>\n",
       "      <td>2021-08-06 09:00:00</td>\n",
       "      <td>How full blocks are in a range of EIP 1559 blo...</td>\n",
       "      <td>how full blocks are in a range of eip    9 blo...</td>\n",
       "      <td>positive</td>\n",
       "      <td>0.152</td>\n",
       "      <td>0.677</td>\n",
       "      <td>0.170</td>\n",
       "      <td>0.4215</td>\n",
       "    </tr>\n",
       "    <tr>\n",
       "      <th>2</th>\n",
       "      <td>2021-06-07 09:00:00</td>\n",
       "      <td>Altair: Beacon chain upgrade \n",
       "@dannyryan\n",
       " &amp; \n",
       "...</td>\n",
       "      <td>altair  beacon chain upgrade           shared...</td>\n",
       "      <td>negative</td>\n",
       "      <td>0.092</td>\n",
       "      <td>0.872</td>\n",
       "      <td>0.037</td>\n",
       "      <td>-0.5574</td>\n",
       "    </tr>\n",
       "    <tr>\n",
       "      <th>3</th>\n",
       "      <td>2021-06-03 09:00:00</td>\n",
       "      <td>Here's my conversation with \n",
       "@VitalikButerin\n",
       ",...</td>\n",
       "      <td>here s my conversation with      his second ti...</td>\n",
       "      <td>neutral</td>\n",
       "      <td>0.000</td>\n",
       "      <td>1.000</td>\n",
       "      <td>0.000</td>\n",
       "      <td>0.0000</td>\n",
       "    </tr>\n",
       "    <tr>\n",
       "      <th>4</th>\n",
       "      <td>2021-05-25 09:00:00</td>\n",
       "      <td>Blockchain voting is overrated among uninforme...</td>\n",
       "      <td>blockchain voting is overrated among uninforme...</td>\n",
       "      <td>neutral</td>\n",
       "      <td>0.000</td>\n",
       "      <td>1.000</td>\n",
       "      <td>0.000</td>\n",
       "      <td>0.0000</td>\n",
       "    </tr>\n",
       "    <tr>\n",
       "      <th>...</th>\n",
       "      <td>...</td>\n",
       "      <td>...</td>\n",
       "      <td>...</td>\n",
       "      <td>...</td>\n",
       "      <td>...</td>\n",
       "      <td>...</td>\n",
       "      <td>...</td>\n",
       "      <td>...</td>\n",
       "    </tr>\n",
       "    <tr>\n",
       "      <th>531</th>\n",
       "      <td>2020-06-02 09:00:00</td>\n",
       "      <td>Yes, the money printer did go brrrrr. But that...</td>\n",
       "      <td>yes  the money printer did go brrrrr  but that...</td>\n",
       "      <td>positive</td>\n",
       "      <td>0.000</td>\n",
       "      <td>0.836</td>\n",
       "      <td>0.164</td>\n",
       "      <td>0.8622</td>\n",
       "    </tr>\n",
       "    <tr>\n",
       "      <th>532</th>\n",
       "      <td>2020-06-02 09:00:00</td>\n",
       "      <td>2020 is first and foremost *not* a financial c...</td>\n",
       "      <td>is first and foremost  not  a financial c...</td>\n",
       "      <td>positive</td>\n",
       "      <td>0.050</td>\n",
       "      <td>0.652</td>\n",
       "      <td>0.298</td>\n",
       "      <td>0.9228</td>\n",
       "    </tr>\n",
       "    <tr>\n",
       "      <th>533</th>\n",
       "      <td>2020-06-02 09:00:00</td>\n",
       "      <td>And bitcoin itself is primarily a financial to...</td>\n",
       "      <td>and bitcoin itself is primarily a financial to...</td>\n",
       "      <td>positive</td>\n",
       "      <td>0.000</td>\n",
       "      <td>0.906</td>\n",
       "      <td>0.094</td>\n",
       "      <td>0.5927</td>\n",
       "    </tr>\n",
       "    <tr>\n",
       "      <th>534</th>\n",
       "      <td>2020-06-02 09:00:00</td>\n",
       "      <td>Bitcoin was born out of a crisis that was fund...</td>\n",
       "      <td>bitcoin was born out of a crisis that was fund...</td>\n",
       "      <td>negative</td>\n",
       "      <td>0.157</td>\n",
       "      <td>0.843</td>\n",
       "      <td>0.000</td>\n",
       "      <td>-0.7717</td>\n",
       "    </tr>\n",
       "    <tr>\n",
       "      <th>535</th>\n",
       "      <td>2020-06-02 09:00:00</td>\n",
       "      <td>On 2008 vs 2020, and what it means for crypto(...</td>\n",
       "      <td>on      vs       and what it means for crypto ...</td>\n",
       "      <td>positive</td>\n",
       "      <td>0.000</td>\n",
       "      <td>0.947</td>\n",
       "      <td>0.053</td>\n",
       "      <td>0.1154</td>\n",
       "    </tr>\n",
       "  </tbody>\n",
       "</table>\n",
       "<p>536 rows × 8 columns</p>\n",
       "</div>"
      ],
      "text/plain": [
       "              Timestamp                                           Comments  \\\n",
       "0   2020-06-18 09:00:00  Things I'm excited about (incomplete list)\n",
       "\n",
       "* ...   \n",
       "1   2021-08-06 09:00:00  How full blocks are in a range of EIP 1559 blo...   \n",
       "2   2021-06-07 09:00:00   Altair: Beacon chain upgrade \n",
       "@dannyryan\n",
       " & \n",
       "...   \n",
       "3   2021-06-03 09:00:00  Here's my conversation with \n",
       "@VitalikButerin\n",
       ",...   \n",
       "4   2021-05-25 09:00:00  Blockchain voting is overrated among uninforme...   \n",
       "..                  ...                                                ...   \n",
       "531 2020-06-02 09:00:00  Yes, the money printer did go brrrrr. But that...   \n",
       "532 2020-06-02 09:00:00  2020 is first and foremost *not* a financial c...   \n",
       "533 2020-06-02 09:00:00  And bitcoin itself is primarily a financial to...   \n",
       "534 2020-06-02 09:00:00  Bitcoin was born out of a crisis that was fund...   \n",
       "535 2020-06-02 09:00:00  On 2008 vs 2020, and what it means for crypto(...   \n",
       "\n",
       "                                        text_processed sentiment    neg  \\\n",
       "0    things i m excited about  incomplete list     ...  positive  0.098   \n",
       "1    how full blocks are in a range of eip    9 blo...  positive  0.152   \n",
       "2     altair  beacon chain upgrade           shared...  negative  0.092   \n",
       "3    here s my conversation with      his second ti...   neutral  0.000   \n",
       "4    blockchain voting is overrated among uninforme...   neutral  0.000   \n",
       "..                                                 ...       ...    ...   \n",
       "531  yes  the money printer did go brrrrr  but that...  positive  0.000   \n",
       "532       is first and foremost  not  a financial c...  positive  0.050   \n",
       "533  and bitcoin itself is primarily a financial to...  positive  0.000   \n",
       "534  bitcoin was born out of a crisis that was fund...  negative  0.157   \n",
       "535  on      vs       and what it means for crypto ...  positive  0.000   \n",
       "\n",
       "       neu    pos  compound  \n",
       "0    0.744  0.158    0.2500  \n",
       "1    0.677  0.170    0.4215  \n",
       "2    0.872  0.037   -0.5574  \n",
       "3    1.000  0.000    0.0000  \n",
       "4    1.000  0.000    0.0000  \n",
       "..     ...    ...       ...  \n",
       "531  0.836  0.164    0.8622  \n",
       "532  0.652  0.298    0.9228  \n",
       "533  0.906  0.094    0.5927  \n",
       "534  0.843  0.000   -0.7717  \n",
       "535  0.947  0.053    0.1154  \n",
       "\n",
       "[536 rows x 8 columns]"
      ]
     },
     "execution_count": 7,
     "metadata": {},
     "output_type": "execute_result"
    }
   ],
   "source": [
    "#Calculating Negative, Positive, Neutral and Compound values\n",
    "# tw_list[['polarity', 'subjectivity']] = tw_list['text'].apply(lambda Text: pd.Series(TextBlob(Text).sentiment))\n",
    "\n",
    "for index, row in tw_list['text_processed'].iteritems():\n",
    "    score = SentimentIntensityAnalyzer().polarity_scores(row)\n",
    "    neg = score['neg']\n",
    "    neu = score['neu']\n",
    "    pos = score['pos']\n",
    "    comp = score['compound']\n",
    "    \n",
    "    if neu == 1.0:\n",
    "        tw_list.loc[index, 'sentiment'] = 'neutral'\n",
    "    elif neg > pos:\n",
    "        tw_list.loc[index, 'sentiment'] = 'negative'\n",
    "    else :\n",
    "        tw_list.loc[index, 'sentiment'] = 'positive'\n",
    "#     if neg > pos:\n",
    "#         tw_list.loc[index, 'sentiment'] = 'negative'\n",
    "#     elif pos > neg:\n",
    "#         tw_list.loc[index, 'sentiment'] = 'positive'\n",
    "#     else:\n",
    "#         tw_list.loc[index, 'sentiment'] = 'neutral'\n",
    "        \n",
    "    tw_list.loc[index, 'neg'] = neg\n",
    "    tw_list.loc[index, 'neu'] = neu\n",
    "    tw_list.loc[index, 'pos'] = pos\n",
    "    tw_list.loc[index, 'compound'] = comp\n",
    "    \n",
    "tw_list"
   ]
  },
  {
   "cell_type": "code",
   "execution_count": 8,
   "id": "d71a1927",
   "metadata": {},
   "outputs": [],
   "source": [
    "#Creating new data frames for all sentiments (positive, negative and neutral)\n",
    "tw_list_negative = tw_list[tw_list['sentiment']=='negative']\n",
    "tw_list_positive = tw_list[tw_list['sentiment']=='positive']\n",
    "tw_list_neutral = tw_list[tw_list['sentiment']=='neutral']"
   ]
  },
  {
   "cell_type": "code",
   "execution_count": 9,
   "id": "2f3057a9",
   "metadata": {},
   "outputs": [
    {
     "data": {
      "text/html": [
       "<div>\n",
       "<style scoped>\n",
       "    .dataframe tbody tr th:only-of-type {\n",
       "        vertical-align: middle;\n",
       "    }\n",
       "\n",
       "    .dataframe tbody tr th {\n",
       "        vertical-align: top;\n",
       "    }\n",
       "\n",
       "    .dataframe thead th {\n",
       "        text-align: right;\n",
       "    }\n",
       "</style>\n",
       "<table border=\"1\" class=\"dataframe\">\n",
       "  <thead>\n",
       "    <tr style=\"text-align: right;\">\n",
       "      <th></th>\n",
       "      <th>Total</th>\n",
       "      <th>Percentage</th>\n",
       "    </tr>\n",
       "  </thead>\n",
       "  <tbody>\n",
       "    <tr>\n",
       "      <th>positive</th>\n",
       "      <td>366</td>\n",
       "      <td>68.28</td>\n",
       "    </tr>\n",
       "    <tr>\n",
       "      <th>negative</th>\n",
       "      <td>117</td>\n",
       "      <td>21.83</td>\n",
       "    </tr>\n",
       "    <tr>\n",
       "      <th>neutral</th>\n",
       "      <td>53</td>\n",
       "      <td>9.89</td>\n",
       "    </tr>\n",
       "  </tbody>\n",
       "</table>\n",
       "</div>"
      ],
      "text/plain": [
       "          Total  Percentage\n",
       "positive    366       68.28\n",
       "negative    117       21.83\n",
       "neutral      53        9.89"
      ]
     },
     "execution_count": 9,
     "metadata": {},
     "output_type": "execute_result"
    }
   ],
   "source": [
    "def count_values_in_column(data,feature):\n",
    "    total=data.loc[:,feature].value_counts(dropna=False)\n",
    "    percentage=round(data.loc[:,feature].value_counts(dropna=False,normalize=True)*100,2)\n",
    "    return pd.concat([total,percentage],axis=1,keys=['Total','Percentage'])\n",
    "\n",
    "#Count_values for sentiment\n",
    "count_values_in_column(tw_list,'sentiment')"
   ]
  },
  {
   "cell_type": "code",
   "execution_count": 10,
   "id": "7d83f91c",
   "metadata": {},
   "outputs": [
    {
     "data": {
      "image/png": "[encoded data removed]",
      "text/plain": [
       "<Figure size 432x288 with 1 Axes>"
      ]
     },
     "metadata": {},
     "output_type": "display_data"
    }
   ],
   "source": [
    "# create data for Pie Chart\n",
    "pc = count_values_in_column(tw_list, 'sentiment')\n",
    "names= pc.index\n",
    "size=pc['Percentage']\n",
    " \n",
    "# Create a circle for the center of the plot\n",
    "my_circle=plt.Circle( (0,0), 0.7, color='white')\n",
    "plt.pie(size, labels=names, colors=['green', 'blue', 'red'])\n",
    "p=plt.gcf()\n",
    "p.gca().add_artist(my_circle)\n",
    "plt.show()"
   ]
  },
  {
   "cell_type": "markdown",
   "id": "f1e4482f",
   "metadata": {},
   "source": [
    "## 📈 가격 데이터와 연결짓기"
   ]
  },
  {
   "cell_type": "code",
   "execution_count": 11,
   "id": "c43a7fc0",
   "metadata": {},
   "outputs": [
    {
     "name": "stdout",
     "output_type": "stream",
     "text": [
      "['KRW-BTC', 'KRW-ETH', 'BTC-ETH', 'BTC-LTC', 'BTC-XRP', 'BTC-ETC', 'BTC-OMG', 'BTC-CVC', 'BTC-DGB', 'BTC-SC', 'BTC-SNT', 'BTC-WAVES', 'BTC-NMR', 'BTC-XEM', 'BTC-QTUM', 'BTC-BAT', 'BTC-LSK', 'BTC-STEEM', 'BTC-DOGE', 'BTC-BNT', 'BTC-XLM', 'BTC-ARDR', 'BTC-ARK', 'BTC-STORJ', 'BTC-GRS', 'BTC-REP', 'BTC-RLC', 'USDT-BTC', 'USDT-ETH', 'USDT-LTC', 'USDT-XRP', 'USDT-ETC', 'KRW-NEO', 'KRW-MTL', 'KRW-LTC', 'KRW-XRP', 'KRW-ETC', 'KRW-OMG', 'KRW-SNT', 'KRW-WAVES', 'KRW-XEM', 'KRW-QTUM', 'KRW-LSK', 'KRW-STEEM', 'KRW-XLM', 'KRW-ARDR', 'KRW-ARK', 'KRW-STORJ', 'KRW-GRS', 'KRW-REP', 'KRW-ADA', 'BTC-ADA', 'BTC-MANA', 'USDT-OMG', 'KRW-SBD', 'BTC-SBD', 'KRW-POWR', 'BTC-POWR', 'KRW-BTG', 'USDT-ADA', 'BTC-DNT', 'BTC-ZRX', 'BTC-TRX', 'BTC-TUSD', 'BTC-LRC', 'KRW-ICX', 'KRW-EOS', 'USDT-TUSD', 'KRW-TRX', 'BTC-POLY', 'USDT-SC', 'USDT-TRX', 'KRW-SC', 'KRW-ONT', 'KRW-ZIL', 'KRW-POLY', 'KRW-ZRX', 'KRW-LOOM', 'BTC-BCH', 'USDT-BCH', 'KRW-BCH', 'BTC-MFT', 'BTC-LOOM', 'KRW-BAT', 'KRW-IOST', 'BTC-RFR', 'KRW-RFR', 'USDT-DGB', 'KRW-CVC', 'KRW-IQ', 'KRW-IOTA', 'BTC-RVN', 'BTC-GO', 'BTC-UPP', 'BTC-ENJ', 'KRW-MFT', 'KRW-ONG', 'KRW-GAS', 'BTC-MTL', 'KRW-UPP', 'KRW-ELF', 'USDT-DOGE', 'USDT-ZRX', 'USDT-RVN', 'USDT-BAT', 'KRW-KNC', 'BTC-PAX', 'BTC-MOC', 'BTC-ZIL', 'KRW-BSV', 'BTC-BSV', 'BTC-IOST', 'KRW-THETA', 'BTC-DENT', 'KRW-QKC', 'BTC-ELF', 'KRW-BTT', 'BTC-BTT', 'BTC-IOTX', 'BTC-SOLVE', 'BTC-NKN', 'BTC-META', 'KRW-MOC', 'BTC-ANKR', 'BTC-CRO', 'KRW-ENJ', 'KRW-TFUEL', 'KRW-MANA', 'KRW-ANKR', 'BTC-ORBS', 'BTC-AERGO', 'KRW-AERGO', 'KRW-ATOM', 'KRW-TT', 'KRW-CRE', 'BTC-ATOM', 'BTC-STPT', 'KRW-MBL', 'BTC-EOS', 'BTC-LUNA', 'BTC-DAI', 'BTC-MKR', 'BTC-BORA', 'KRW-WAXP', 'BTC-WAXP', 'KRW-HBAR', 'KRW-MED', 'BTC-MED', 'BTC-MLK', 'KRW-MLK', 'KRW-STPT', 'BTC-VET', 'KRW-ORBS', 'BTC-CHZ', 'KRW-VET', 'BTC-FX', 'BTC-OGN', 'KRW-CHZ', 'BTC-XTZ', 'BTC-HIVE', 'BTC-HBD', 'BTC-OBSR', 'BTC-DKA', 'KRW-STMX', 'BTC-STMX', 'BTC-AHT', 'BTC-PCI', 'KRW-DKA', 'BTC-LINK', 'KRW-HIVE', 'KRW-KAVA', 'BTC-KAVA', 'KRW-AHT', 'KRW-LINK', 'KRW-XTZ', 'KRW-BORA', 'BTC-JST', 'BTC-CHR', 'BTC-DAD', 'BTC-TON', 'KRW-JST', 'BTC-CTSI', 'BTC-DOT', 'KRW-CRO', 'BTC-COMP', 'BTC-SXP', 'BTC-HUNT', 'KRW-TON', 'BTC-ONIT', 'BTC-CRV', 'BTC-ALGO', 'BTC-RSR', 'KRW-SXP', 'BTC-OXT', 'BTC-PLA', 'KRW-HUNT', 'BTC-MARO', 'BTC-SAND', 'BTC-SUN', 'KRW-PLA', 'KRW-DOT', 'BTC-SRM', 'BTC-QTCON', 'BTC-MVL', 'KRW-SRM', 'KRW-MVL', 'BTC-GXC', 'BTC-AQT', 'BTC-AXS', 'BTC-STRAX', 'KRW-STRAX', 'KRW-AQT', 'BTC-BCHA', 'KRW-BCHA', 'BTC-GLM', 'KRW-GLM', 'BTC-FCT2', 'BTC-SSX', 'KRW-SSX', 'KRW-META', 'KRW-FCT2', 'BTC-FIL', 'BTC-UNI', 'BTC-BASIC', 'BTC-INJ', 'BTC-PROM', 'BTC-VAL', 'BTC-PSG', 'BTC-JUV', 'BTC-CBK', 'BTC-FOR', 'KRW-CBK', 'BTC-BFC', 'BTC-LINA', 'BTC-HUM', 'BTC-CELO', 'KRW-SAND', 'KRW-HUM', 'BTC-IQ', 'BTC-STX', 'KRW-DOGE', 'BTC-NEAR', 'BTC-AUCTION', 'BTC-DAWN', 'BTC-FLOW', 'BTC-STRK', 'KRW-STRK', 'BTC-PUNDIX', 'KRW-PUNDIX', 'KRW-FLOW', 'KRW-DAWN', 'KRW-AXS', 'KRW-STX', 'BTC-GRT', 'BTC-SNX']\n"
     ]
    }
   ],
   "source": [
    "import pyupbit\n",
    "from matplotlib import rcParams\n",
    "\n",
    "print(pyupbit.get_tickers())"
   ]
  },
  {
   "cell_type": "code",
   "execution_count": 12,
   "id": "e5ce1f30",
   "metadata": {},
   "outputs": [],
   "source": [
    "df = pyupbit.get_ohlcv(\"KRW-ETH\", count=700)\n",
    "df = pd.DataFrame(df)\n",
    "df = df.drop(['value'], axis=1)"
   ]
  },
  {
   "cell_type": "code",
   "execution_count": 13,
   "id": "e475d056",
   "metadata": {},
   "outputs": [
    {
     "data": {
      "image/png": "[encoded data removed]",
      "text/plain": [
       "<Figure size 1152x648 with 1 Axes>"
      ]
     },
     "metadata": {
      "needs_background": "light"
     },
     "output_type": "display_data"
    }
   ],
   "source": [
    "rcParams['figure.figsize'] = 16,9\n",
    "\n",
    "plt.xlabel('Date')\n",
    "plt.ylabel('Price')\n",
    "\n",
    "plt.xticks(rotation=\"45\")\n",
    "ax = sns.lineplot(data=df['open'])\n",
    "\n",
    "plt.show()"
   ]
  },
  {
   "cell_type": "code",
   "execution_count": 14,
   "id": "a8db6bcb",
   "metadata": {},
   "outputs": [
    {
     "data": {
      "text/html": [
       "<div>\n",
       "<style scoped>\n",
       "    .dataframe tbody tr th:only-of-type {\n",
       "        vertical-align: middle;\n",
       "    }\n",
       "\n",
       "    .dataframe tbody tr th {\n",
       "        vertical-align: top;\n",
       "    }\n",
       "\n",
       "    .dataframe thead th {\n",
       "        text-align: right;\n",
       "    }\n",
       "</style>\n",
       "<table border=\"1\" class=\"dataframe\">\n",
       "  <thead>\n",
       "    <tr style=\"text-align: right;\">\n",
       "      <th></th>\n",
       "      <th>Timestamp</th>\n",
       "      <th>Comments</th>\n",
       "      <th>text_processed</th>\n",
       "      <th>sentiment</th>\n",
       "      <th>neg</th>\n",
       "      <th>neu</th>\n",
       "      <th>pos</th>\n",
       "      <th>compound</th>\n",
       "    </tr>\n",
       "  </thead>\n",
       "  <tbody>\n",
       "    <tr>\n",
       "      <th>0</th>\n",
       "      <td>2020-06-18 09:00:00</td>\n",
       "      <td>Things I'm excited about (incomplete list)\n",
       "\n",
       "* ...</td>\n",
       "      <td>things i m excited about  incomplete list     ...</td>\n",
       "      <td>positive</td>\n",
       "      <td>0.098</td>\n",
       "      <td>0.744</td>\n",
       "      <td>0.158</td>\n",
       "      <td>0.2500</td>\n",
       "    </tr>\n",
       "    <tr>\n",
       "      <th>1</th>\n",
       "      <td>2021-08-06 09:00:00</td>\n",
       "      <td>How full blocks are in a range of EIP 1559 blo...</td>\n",
       "      <td>how full blocks are in a range of eip    9 blo...</td>\n",
       "      <td>positive</td>\n",
       "      <td>0.152</td>\n",
       "      <td>0.677</td>\n",
       "      <td>0.170</td>\n",
       "      <td>0.4215</td>\n",
       "    </tr>\n",
       "    <tr>\n",
       "      <th>2</th>\n",
       "      <td>2021-06-07 09:00:00</td>\n",
       "      <td>Altair: Beacon chain upgrade \n",
       "@dannyryan\n",
       " &amp; \n",
       "...</td>\n",
       "      <td>altair  beacon chain upgrade           shared...</td>\n",
       "      <td>negative</td>\n",
       "      <td>0.092</td>\n",
       "      <td>0.872</td>\n",
       "      <td>0.037</td>\n",
       "      <td>-0.5574</td>\n",
       "    </tr>\n",
       "    <tr>\n",
       "      <th>3</th>\n",
       "      <td>2021-06-03 09:00:00</td>\n",
       "      <td>Here's my conversation with \n",
       "@VitalikButerin\n",
       ",...</td>\n",
       "      <td>here s my conversation with      his second ti...</td>\n",
       "      <td>neutral</td>\n",
       "      <td>0.000</td>\n",
       "      <td>1.000</td>\n",
       "      <td>0.000</td>\n",
       "      <td>0.0000</td>\n",
       "    </tr>\n",
       "    <tr>\n",
       "      <th>4</th>\n",
       "      <td>2021-05-25 09:00:00</td>\n",
       "      <td>Blockchain voting is overrated among uninforme...</td>\n",
       "      <td>blockchain voting is overrated among uninforme...</td>\n",
       "      <td>neutral</td>\n",
       "      <td>0.000</td>\n",
       "      <td>1.000</td>\n",
       "      <td>0.000</td>\n",
       "      <td>0.0000</td>\n",
       "    </tr>\n",
       "    <tr>\n",
       "      <th>...</th>\n",
       "      <td>...</td>\n",
       "      <td>...</td>\n",
       "      <td>...</td>\n",
       "      <td>...</td>\n",
       "      <td>...</td>\n",
       "      <td>...</td>\n",
       "      <td>...</td>\n",
       "      <td>...</td>\n",
       "    </tr>\n",
       "    <tr>\n",
       "      <th>531</th>\n",
       "      <td>2020-06-02 09:00:00</td>\n",
       "      <td>Yes, the money printer did go brrrrr. But that...</td>\n",
       "      <td>yes  the money printer did go brrrrr  but that...</td>\n",
       "      <td>positive</td>\n",
       "      <td>0.000</td>\n",
       "      <td>0.836</td>\n",
       "      <td>0.164</td>\n",
       "      <td>0.8622</td>\n",
       "    </tr>\n",
       "    <tr>\n",
       "      <th>532</th>\n",
       "      <td>2020-06-02 09:00:00</td>\n",
       "      <td>2020 is first and foremost *not* a financial c...</td>\n",
       "      <td>is first and foremost  not  a financial c...</td>\n",
       "      <td>positive</td>\n",
       "      <td>0.050</td>\n",
       "      <td>0.652</td>\n",
       "      <td>0.298</td>\n",
       "      <td>0.9228</td>\n",
       "    </tr>\n",
       "    <tr>\n",
       "      <th>533</th>\n",
       "      <td>2020-06-02 09:00:00</td>\n",
       "      <td>And bitcoin itself is primarily a financial to...</td>\n",
       "      <td>and bitcoin itself is primarily a financial to...</td>\n",
       "      <td>positive</td>\n",
       "      <td>0.000</td>\n",
       "      <td>0.906</td>\n",
       "      <td>0.094</td>\n",
       "      <td>0.5927</td>\n",
       "    </tr>\n",
       "    <tr>\n",
       "      <th>534</th>\n",
       "      <td>2020-06-02 09:00:00</td>\n",
       "      <td>Bitcoin was born out of a crisis that was fund...</td>\n",
       "      <td>bitcoin was born out of a crisis that was fund...</td>\n",
       "      <td>negative</td>\n",
       "      <td>0.157</td>\n",
       "      <td>0.843</td>\n",
       "      <td>0.000</td>\n",
       "      <td>-0.7717</td>\n",
       "    </tr>\n",
       "    <tr>\n",
       "      <th>535</th>\n",
       "      <td>2020-06-02 09:00:00</td>\n",
       "      <td>On 2008 vs 2020, and what it means for crypto(...</td>\n",
       "      <td>on      vs       and what it means for crypto ...</td>\n",
       "      <td>positive</td>\n",
       "      <td>0.000</td>\n",
       "      <td>0.947</td>\n",
       "      <td>0.053</td>\n",
       "      <td>0.1154</td>\n",
       "    </tr>\n",
       "  </tbody>\n",
       "</table>\n",
       "<p>536 rows × 8 columns</p>\n",
       "</div>"
      ],
      "text/plain": [
       "              Timestamp                                           Comments  \\\n",
       "0   2020-06-18 09:00:00  Things I'm excited about (incomplete list)\n",
       "\n",
       "* ...   \n",
       "1   2021-08-06 09:00:00  How full blocks are in a range of EIP 1559 blo...   \n",
       "2   2021-06-07 09:00:00   Altair: Beacon chain upgrade \n",
       "@dannyryan\n",
       " & \n",
       "...   \n",
       "3   2021-06-03 09:00:00  Here's my conversation with \n",
       "@VitalikButerin\n",
       ",...   \n",
       "4   2021-05-25 09:00:00  Blockchain voting is overrated among uninforme...   \n",
       "..                  ...                                                ...   \n",
       "531 2020-06-02 09:00:00  Yes, the money printer did go brrrrr. But that...   \n",
       "532 2020-06-02 09:00:00  2020 is first and foremost *not* a financial c...   \n",
       "533 2020-06-02 09:00:00  And bitcoin itself is primarily a financial to...   \n",
       "534 2020-06-02 09:00:00  Bitcoin was born out of a crisis that was fund...   \n",
       "535 2020-06-02 09:00:00  On 2008 vs 2020, and what it means for crypto(...   \n",
       "\n",
       "                                        text_processed sentiment    neg  \\\n",
       "0    things i m excited about  incomplete list     ...  positive  0.098   \n",
       "1    how full blocks are in a range of eip    9 blo...  positive  0.152   \n",
       "2     altair  beacon chain upgrade           shared...  negative  0.092   \n",
       "3    here s my conversation with      his second ti...   neutral  0.000   \n",
       "4    blockchain voting is overrated among uninforme...   neutral  0.000   \n",
       "..                                                 ...       ...    ...   \n",
       "531  yes  the money printer did go brrrrr  but that...  positive  0.000   \n",
       "532       is first and foremost  not  a financial c...  positive  0.050   \n",
       "533  and bitcoin itself is primarily a financial to...  positive  0.000   \n",
       "534  bitcoin was born out of a crisis that was fund...  negative  0.157   \n",
       "535  on      vs       and what it means for crypto ...  positive  0.000   \n",
       "\n",
       "       neu    pos  compound  \n",
       "0    0.744  0.158    0.2500  \n",
       "1    0.677  0.170    0.4215  \n",
       "2    0.872  0.037   -0.5574  \n",
       "3    1.000  0.000    0.0000  \n",
       "4    1.000  0.000    0.0000  \n",
       "..     ...    ...       ...  \n",
       "531  0.836  0.164    0.8622  \n",
       "532  0.652  0.298    0.9228  \n",
       "533  0.906  0.094    0.5927  \n",
       "534  0.843  0.000   -0.7717  \n",
       "535  0.947  0.053    0.1154  \n",
       "\n",
       "[536 rows x 8 columns]"
      ]
     },
     "execution_count": 14,
     "metadata": {},
     "output_type": "execute_result"
    }
   ],
   "source": [
    "tw_list"
   ]
  },
  {
   "cell_type": "code",
   "execution_count": 15,
   "id": "ec6d330c",
   "metadata": {},
   "outputs": [
    {
     "data": {
      "text/html": [
       "<div>\n",
       "<style scoped>\n",
       "    .dataframe tbody tr th:only-of-type {\n",
       "        vertical-align: middle;\n",
       "    }\n",
       "\n",
       "    .dataframe tbody tr th {\n",
       "        vertical-align: top;\n",
       "    }\n",
       "\n",
       "    .dataframe thead th {\n",
       "        text-align: right;\n",
       "    }\n",
       "</style>\n",
       "<table border=\"1\" class=\"dataframe\">\n",
       "  <thead>\n",
       "    <tr style=\"text-align: right;\">\n",
       "      <th></th>\n",
       "      <th>neg</th>\n",
       "      <th>neu</th>\n",
       "      <th>pos</th>\n",
       "      <th>compound</th>\n",
       "    </tr>\n",
       "    <tr>\n",
       "      <th>Timestamp</th>\n",
       "      <th></th>\n",
       "      <th></th>\n",
       "      <th></th>\n",
       "      <th></th>\n",
       "    </tr>\n",
       "  </thead>\n",
       "  <tbody>\n",
       "    <tr>\n",
       "      <th>2017-06-28 09:00:00</th>\n",
       "      <td>0.091000</td>\n",
       "      <td>0.909000</td>\n",
       "      <td>0.000000</td>\n",
       "      <td>-0.318200</td>\n",
       "    </tr>\n",
       "    <tr>\n",
       "      <th>2020-06-02 09:00:00</th>\n",
       "      <td>0.032917</td>\n",
       "      <td>0.854583</td>\n",
       "      <td>0.112417</td>\n",
       "      <td>0.376617</td>\n",
       "    </tr>\n",
       "    <tr>\n",
       "      <th>2020-06-04 09:00:00</th>\n",
       "      <td>0.000000</td>\n",
       "      <td>0.801000</td>\n",
       "      <td>0.199000</td>\n",
       "      <td>0.690800</td>\n",
       "    </tr>\n",
       "    <tr>\n",
       "      <th>2020-06-05 09:00:00</th>\n",
       "      <td>0.076000</td>\n",
       "      <td>0.863000</td>\n",
       "      <td>0.061000</td>\n",
       "      <td>-0.102700</td>\n",
       "    </tr>\n",
       "    <tr>\n",
       "      <th>2020-06-06 09:00:00</th>\n",
       "      <td>0.066600</td>\n",
       "      <td>0.818200</td>\n",
       "      <td>0.115200</td>\n",
       "      <td>0.262420</td>\n",
       "    </tr>\n",
       "    <tr>\n",
       "      <th>...</th>\n",
       "      <td>...</td>\n",
       "      <td>...</td>\n",
       "      <td>...</td>\n",
       "      <td>...</td>\n",
       "    </tr>\n",
       "    <tr>\n",
       "      <th>2021-04-23 09:00:00</th>\n",
       "      <td>0.000000</td>\n",
       "      <td>0.929000</td>\n",
       "      <td>0.071000</td>\n",
       "      <td>0.296000</td>\n",
       "    </tr>\n",
       "    <tr>\n",
       "      <th>2021-05-23 09:00:00</th>\n",
       "      <td>0.115000</td>\n",
       "      <td>0.794000</td>\n",
       "      <td>0.091000</td>\n",
       "      <td>-0.153100</td>\n",
       "    </tr>\n",
       "    <tr>\n",
       "      <th>2021-05-24 09:00:00</th>\n",
       "      <td>0.069000</td>\n",
       "      <td>0.931000</td>\n",
       "      <td>0.000000</td>\n",
       "      <td>-0.353500</td>\n",
       "    </tr>\n",
       "    <tr>\n",
       "      <th>2021-06-07 09:00:00</th>\n",
       "      <td>0.092000</td>\n",
       "      <td>0.872000</td>\n",
       "      <td>0.037000</td>\n",
       "      <td>-0.557400</td>\n",
       "    </tr>\n",
       "    <tr>\n",
       "      <th>2021-08-06 09:00:00</th>\n",
       "      <td>0.152000</td>\n",
       "      <td>0.677000</td>\n",
       "      <td>0.170000</td>\n",
       "      <td>0.421500</td>\n",
       "    </tr>\n",
       "  </tbody>\n",
       "</table>\n",
       "<p>156 rows × 4 columns</p>\n",
       "</div>"
      ],
      "text/plain": [
       "                          neg       neu       pos  compound\n",
       "Timestamp                                                  \n",
       "2017-06-28 09:00:00  0.091000  0.909000  0.000000 -0.318200\n",
       "2020-06-02 09:00:00  0.032917  0.854583  0.112417  0.376617\n",
       "2020-06-04 09:00:00  0.000000  0.801000  0.199000  0.690800\n",
       "2020-06-05 09:00:00  0.076000  0.863000  0.061000 -0.102700\n",
       "2020-06-06 09:00:00  0.066600  0.818200  0.115200  0.262420\n",
       "...                       ...       ...       ...       ...\n",
       "2021-04-23 09:00:00  0.000000  0.929000  0.071000  0.296000\n",
       "2021-05-23 09:00:00  0.115000  0.794000  0.091000 -0.153100\n",
       "2021-05-24 09:00:00  0.069000  0.931000  0.000000 -0.353500\n",
       "2021-06-07 09:00:00  0.092000  0.872000  0.037000 -0.557400\n",
       "2021-08-06 09:00:00  0.152000  0.677000  0.170000  0.421500\n",
       "\n",
       "[156 rows x 4 columns]"
      ]
     },
     "execution_count": 15,
     "metadata": {},
     "output_type": "execute_result"
    }
   ],
   "source": [
    "tw_list = tw_list[tw_list['sentiment'] != 'neutral']\n",
    "tw_group = tw_list.groupby('Timestamp').mean()\n",
    "tw_group"
   ]
  },
  {
   "cell_type": "code",
   "execution_count": 16,
   "id": "8c3412b7",
   "metadata": {},
   "outputs": [
    {
     "data": {
      "text/html": [
       "<div>\n",
       "<style scoped>\n",
       "    .dataframe tbody tr th:only-of-type {\n",
       "        vertical-align: middle;\n",
       "    }\n",
       "\n",
       "    .dataframe tbody tr th {\n",
       "        vertical-align: top;\n",
       "    }\n",
       "\n",
       "    .dataframe thead th {\n",
       "        text-align: right;\n",
       "    }\n",
       "</style>\n",
       "<table border=\"1\" class=\"dataframe\">\n",
       "  <thead>\n",
       "    <tr style=\"text-align: right;\">\n",
       "      <th></th>\n",
       "      <th>neg</th>\n",
       "      <th>neu</th>\n",
       "      <th>pos</th>\n",
       "      <th>compound</th>\n",
       "      <th>sentiment</th>\n",
       "    </tr>\n",
       "    <tr>\n",
       "      <th>Timestamp</th>\n",
       "      <th></th>\n",
       "      <th></th>\n",
       "      <th></th>\n",
       "      <th></th>\n",
       "      <th></th>\n",
       "    </tr>\n",
       "  </thead>\n",
       "  <tbody>\n",
       "    <tr>\n",
       "      <th>2017-06-28 09:00:00</th>\n",
       "      <td>0.091000</td>\n",
       "      <td>0.909000</td>\n",
       "      <td>0.000000</td>\n",
       "      <td>-0.318200</td>\n",
       "      <td>neg</td>\n",
       "    </tr>\n",
       "    <tr>\n",
       "      <th>2020-06-02 09:00:00</th>\n",
       "      <td>0.032917</td>\n",
       "      <td>0.854583</td>\n",
       "      <td>0.112417</td>\n",
       "      <td>0.376617</td>\n",
       "      <td>pos</td>\n",
       "    </tr>\n",
       "    <tr>\n",
       "      <th>2020-06-04 09:00:00</th>\n",
       "      <td>0.000000</td>\n",
       "      <td>0.801000</td>\n",
       "      <td>0.199000</td>\n",
       "      <td>0.690800</td>\n",
       "      <td>pos</td>\n",
       "    </tr>\n",
       "    <tr>\n",
       "      <th>2020-06-05 09:00:00</th>\n",
       "      <td>0.076000</td>\n",
       "      <td>0.863000</td>\n",
       "      <td>0.061000</td>\n",
       "      <td>-0.102700</td>\n",
       "      <td>neg</td>\n",
       "    </tr>\n",
       "    <tr>\n",
       "      <th>2020-06-06 09:00:00</th>\n",
       "      <td>0.066600</td>\n",
       "      <td>0.818200</td>\n",
       "      <td>0.115200</td>\n",
       "      <td>0.262420</td>\n",
       "      <td>pos</td>\n",
       "    </tr>\n",
       "    <tr>\n",
       "      <th>...</th>\n",
       "      <td>...</td>\n",
       "      <td>...</td>\n",
       "      <td>...</td>\n",
       "      <td>...</td>\n",
       "      <td>...</td>\n",
       "    </tr>\n",
       "    <tr>\n",
       "      <th>2021-04-23 09:00:00</th>\n",
       "      <td>0.000000</td>\n",
       "      <td>0.929000</td>\n",
       "      <td>0.071000</td>\n",
       "      <td>0.296000</td>\n",
       "      <td>pos</td>\n",
       "    </tr>\n",
       "    <tr>\n",
       "      <th>2021-05-23 09:00:00</th>\n",
       "      <td>0.115000</td>\n",
       "      <td>0.794000</td>\n",
       "      <td>0.091000</td>\n",
       "      <td>-0.153100</td>\n",
       "      <td>neg</td>\n",
       "    </tr>\n",
       "    <tr>\n",
       "      <th>2021-05-24 09:00:00</th>\n",
       "      <td>0.069000</td>\n",
       "      <td>0.931000</td>\n",
       "      <td>0.000000</td>\n",
       "      <td>-0.353500</td>\n",
       "      <td>neg</td>\n",
       "    </tr>\n",
       "    <tr>\n",
       "      <th>2021-06-07 09:00:00</th>\n",
       "      <td>0.092000</td>\n",
       "      <td>0.872000</td>\n",
       "      <td>0.037000</td>\n",
       "      <td>-0.557400</td>\n",
       "      <td>neg</td>\n",
       "    </tr>\n",
       "    <tr>\n",
       "      <th>2021-08-06 09:00:00</th>\n",
       "      <td>0.152000</td>\n",
       "      <td>0.677000</td>\n",
       "      <td>0.170000</td>\n",
       "      <td>0.421500</td>\n",
       "      <td>pos</td>\n",
       "    </tr>\n",
       "  </tbody>\n",
       "</table>\n",
       "<p>156 rows × 5 columns</p>\n",
       "</div>"
      ],
      "text/plain": [
       "                          neg       neu       pos  compound sentiment\n",
       "Timestamp                                                            \n",
       "2017-06-28 09:00:00  0.091000  0.909000  0.000000 -0.318200       neg\n",
       "2020-06-02 09:00:00  0.032917  0.854583  0.112417  0.376617       pos\n",
       "2020-06-04 09:00:00  0.000000  0.801000  0.199000  0.690800       pos\n",
       "2020-06-05 09:00:00  0.076000  0.863000  0.061000 -0.102700       neg\n",
       "2020-06-06 09:00:00  0.066600  0.818200  0.115200  0.262420       pos\n",
       "...                       ...       ...       ...       ...       ...\n",
       "2021-04-23 09:00:00  0.000000  0.929000  0.071000  0.296000       pos\n",
       "2021-05-23 09:00:00  0.115000  0.794000  0.091000 -0.153100       neg\n",
       "2021-05-24 09:00:00  0.069000  0.931000  0.000000 -0.353500       neg\n",
       "2021-06-07 09:00:00  0.092000  0.872000  0.037000 -0.557400       neg\n",
       "2021-08-06 09:00:00  0.152000  0.677000  0.170000  0.421500       pos\n",
       "\n",
       "[156 rows x 5 columns]"
      ]
     },
     "execution_count": 16,
     "metadata": {},
     "output_type": "execute_result"
    }
   ],
   "source": [
    "def sentiment_analysis(tw_group):\n",
    "    zxcv = max(tw_group['pos'], tw_group['neg'])\n",
    "    if tw_group['pos'] == zxcv:\n",
    "        return 'pos'\n",
    "#     elif tw_group['neu'] == zxcv:\n",
    "#         return 'neu'\n",
    "    elif tw_group['neg'] == zxcv:\n",
    "        return 'neg'\n",
    "    \n",
    "    \n",
    "tw_group['sentiment'] = tw_group.apply(sentiment_analysis, axis=1)\n",
    "tw_group"
   ]
  },
  {
   "cell_type": "code",
   "execution_count": 17,
   "id": "e0b8b1b6",
   "metadata": {},
   "outputs": [
    {
     "data": {
      "text/html": [
       "<div>\n",
       "<style scoped>\n",
       "    .dataframe tbody tr th:only-of-type {\n",
       "        vertical-align: middle;\n",
       "    }\n",
       "\n",
       "    .dataframe tbody tr th {\n",
       "        vertical-align: top;\n",
       "    }\n",
       "\n",
       "    .dataframe thead th {\n",
       "        text-align: right;\n",
       "    }\n",
       "</style>\n",
       "<table border=\"1\" class=\"dataframe\">\n",
       "  <thead>\n",
       "    <tr style=\"text-align: right;\">\n",
       "      <th></th>\n",
       "      <th>neg</th>\n",
       "      <th>neu</th>\n",
       "      <th>pos</th>\n",
       "      <th>compound</th>\n",
       "      <th>sentiment</th>\n",
       "    </tr>\n",
       "    <tr>\n",
       "      <th>Timestamp</th>\n",
       "      <th></th>\n",
       "      <th></th>\n",
       "      <th></th>\n",
       "      <th></th>\n",
       "      <th></th>\n",
       "    </tr>\n",
       "  </thead>\n",
       "  <tbody>\n",
       "    <tr>\n",
       "      <th>2017-06-28 09:00:00</th>\n",
       "      <td>0.091000</td>\n",
       "      <td>0.909000</td>\n",
       "      <td>0.000000</td>\n",
       "      <td>-0.318200</td>\n",
       "      <td>neg</td>\n",
       "    </tr>\n",
       "    <tr>\n",
       "      <th>2020-06-02 09:00:00</th>\n",
       "      <td>0.032917</td>\n",
       "      <td>0.854583</td>\n",
       "      <td>0.112417</td>\n",
       "      <td>0.376617</td>\n",
       "      <td>pos</td>\n",
       "    </tr>\n",
       "    <tr>\n",
       "      <th>2020-06-04 09:00:00</th>\n",
       "      <td>0.000000</td>\n",
       "      <td>0.801000</td>\n",
       "      <td>0.199000</td>\n",
       "      <td>0.690800</td>\n",
       "      <td>pos</td>\n",
       "    </tr>\n",
       "    <tr>\n",
       "      <th>2020-06-05 09:00:00</th>\n",
       "      <td>0.076000</td>\n",
       "      <td>0.863000</td>\n",
       "      <td>0.061000</td>\n",
       "      <td>-0.102700</td>\n",
       "      <td>neg</td>\n",
       "    </tr>\n",
       "    <tr>\n",
       "      <th>2020-06-06 09:00:00</th>\n",
       "      <td>0.066600</td>\n",
       "      <td>0.818200</td>\n",
       "      <td>0.115200</td>\n",
       "      <td>0.262420</td>\n",
       "      <td>pos</td>\n",
       "    </tr>\n",
       "    <tr>\n",
       "      <th>...</th>\n",
       "      <td>...</td>\n",
       "      <td>...</td>\n",
       "      <td>...</td>\n",
       "      <td>...</td>\n",
       "      <td>...</td>\n",
       "    </tr>\n",
       "    <tr>\n",
       "      <th>2021-04-23 09:00:00</th>\n",
       "      <td>0.000000</td>\n",
       "      <td>0.929000</td>\n",
       "      <td>0.071000</td>\n",
       "      <td>0.296000</td>\n",
       "      <td>pos</td>\n",
       "    </tr>\n",
       "    <tr>\n",
       "      <th>2021-05-23 09:00:00</th>\n",
       "      <td>0.115000</td>\n",
       "      <td>0.794000</td>\n",
       "      <td>0.091000</td>\n",
       "      <td>-0.153100</td>\n",
       "      <td>neg</td>\n",
       "    </tr>\n",
       "    <tr>\n",
       "      <th>2021-05-24 09:00:00</th>\n",
       "      <td>0.069000</td>\n",
       "      <td>0.931000</td>\n",
       "      <td>0.000000</td>\n",
       "      <td>-0.353500</td>\n",
       "      <td>neg</td>\n",
       "    </tr>\n",
       "    <tr>\n",
       "      <th>2021-06-07 09:00:00</th>\n",
       "      <td>0.092000</td>\n",
       "      <td>0.872000</td>\n",
       "      <td>0.037000</td>\n",
       "      <td>-0.557400</td>\n",
       "      <td>neg</td>\n",
       "    </tr>\n",
       "    <tr>\n",
       "      <th>2021-08-06 09:00:00</th>\n",
       "      <td>0.152000</td>\n",
       "      <td>0.677000</td>\n",
       "      <td>0.170000</td>\n",
       "      <td>0.421500</td>\n",
       "      <td>pos</td>\n",
       "    </tr>\n",
       "  </tbody>\n",
       "</table>\n",
       "<p>156 rows × 5 columns</p>\n",
       "</div>"
      ],
      "text/plain": [
       "                          neg       neu       pos  compound sentiment\n",
       "Timestamp                                                            \n",
       "2017-06-28 09:00:00  0.091000  0.909000  0.000000 -0.318200       neg\n",
       "2020-06-02 09:00:00  0.032917  0.854583  0.112417  0.376617       pos\n",
       "2020-06-04 09:00:00  0.000000  0.801000  0.199000  0.690800       pos\n",
       "2020-06-05 09:00:00  0.076000  0.863000  0.061000 -0.102700       neg\n",
       "2020-06-06 09:00:00  0.066600  0.818200  0.115200  0.262420       pos\n",
       "...                       ...       ...       ...       ...       ...\n",
       "2021-04-23 09:00:00  0.000000  0.929000  0.071000  0.296000       pos\n",
       "2021-05-23 09:00:00  0.115000  0.794000  0.091000 -0.153100       neg\n",
       "2021-05-24 09:00:00  0.069000  0.931000  0.000000 -0.353500       neg\n",
       "2021-06-07 09:00:00  0.092000  0.872000  0.037000 -0.557400       neg\n",
       "2021-08-06 09:00:00  0.152000  0.677000  0.170000  0.421500       pos\n",
       "\n",
       "[156 rows x 5 columns]"
      ]
     },
     "execution_count": 17,
     "metadata": {},
     "output_type": "execute_result"
    }
   ],
   "source": [
    "tw_group[tw_group['sentiment'] != 'neu']"
   ]
  },
  {
   "cell_type": "code",
   "execution_count": 18,
   "id": "89490fbe",
   "metadata": {},
   "outputs": [
    {
     "data": {
      "text/html": [
       "<div>\n",
       "<style scoped>\n",
       "    .dataframe tbody tr th:only-of-type {\n",
       "        vertical-align: middle;\n",
       "    }\n",
       "\n",
       "    .dataframe tbody tr th {\n",
       "        vertical-align: top;\n",
       "    }\n",
       "\n",
       "    .dataframe thead th {\n",
       "        text-align: right;\n",
       "    }\n",
       "</style>\n",
       "<table border=\"1\" class=\"dataframe\">\n",
       "  <thead>\n",
       "    <tr style=\"text-align: right;\">\n",
       "      <th></th>\n",
       "      <th>Timestamp</th>\n",
       "      <th>open</th>\n",
       "      <th>sentiment</th>\n",
       "    </tr>\n",
       "  </thead>\n",
       "  <tbody>\n",
       "    <tr>\n",
       "      <th>0</th>\n",
       "      <td>2017-06-28 09:00:00</td>\n",
       "      <td>NaN</td>\n",
       "      <td>neg</td>\n",
       "    </tr>\n",
       "    <tr>\n",
       "      <th>1</th>\n",
       "      <td>2020-06-02 09:00:00</td>\n",
       "      <td>294200.0</td>\n",
       "      <td>pos</td>\n",
       "    </tr>\n",
       "    <tr>\n",
       "      <th>2</th>\n",
       "      <td>2020-06-04 09:00:00</td>\n",
       "      <td>295100.0</td>\n",
       "      <td>pos</td>\n",
       "    </tr>\n",
       "    <tr>\n",
       "      <th>3</th>\n",
       "      <td>2020-06-05 09:00:00</td>\n",
       "      <td>292750.0</td>\n",
       "      <td>neg</td>\n",
       "    </tr>\n",
       "    <tr>\n",
       "      <th>4</th>\n",
       "      <td>2020-06-06 09:00:00</td>\n",
       "      <td>289200.0</td>\n",
       "      <td>pos</td>\n",
       "    </tr>\n",
       "    <tr>\n",
       "      <th>...</th>\n",
       "      <td>...</td>\n",
       "      <td>...</td>\n",
       "      <td>...</td>\n",
       "    </tr>\n",
       "    <tr>\n",
       "      <th>151</th>\n",
       "      <td>2021-04-23 09:00:00</td>\n",
       "      <td>2767000.0</td>\n",
       "      <td>pos</td>\n",
       "    </tr>\n",
       "    <tr>\n",
       "      <th>152</th>\n",
       "      <td>2021-05-23 09:00:00</td>\n",
       "      <td>2913000.0</td>\n",
       "      <td>neg</td>\n",
       "    </tr>\n",
       "    <tr>\n",
       "      <th>153</th>\n",
       "      <td>2021-05-24 09:00:00</td>\n",
       "      <td>2582000.0</td>\n",
       "      <td>neg</td>\n",
       "    </tr>\n",
       "    <tr>\n",
       "      <th>154</th>\n",
       "      <td>2021-06-07 09:00:00</td>\n",
       "      <td>3163000.0</td>\n",
       "      <td>neg</td>\n",
       "    </tr>\n",
       "    <tr>\n",
       "      <th>155</th>\n",
       "      <td>2021-08-06 09:00:00</td>\n",
       "      <td>3260000.0</td>\n",
       "      <td>pos</td>\n",
       "    </tr>\n",
       "  </tbody>\n",
       "</table>\n",
       "<p>156 rows × 3 columns</p>\n",
       "</div>"
      ],
      "text/plain": [
       "              Timestamp       open sentiment\n",
       "0   2017-06-28 09:00:00        NaN       neg\n",
       "1   2020-06-02 09:00:00   294200.0       pos\n",
       "2   2020-06-04 09:00:00   295100.0       pos\n",
       "3   2020-06-05 09:00:00   292750.0       neg\n",
       "4   2020-06-06 09:00:00   289200.0       pos\n",
       "..                  ...        ...       ...\n",
       "151 2021-04-23 09:00:00  2767000.0       pos\n",
       "152 2021-05-23 09:00:00  2913000.0       neg\n",
       "153 2021-05-24 09:00:00  2582000.0       neg\n",
       "154 2021-06-07 09:00:00  3163000.0       neg\n",
       "155 2021-08-06 09:00:00  3260000.0       pos\n",
       "\n",
       "[156 rows x 3 columns]"
      ]
     },
     "execution_count": 18,
     "metadata": {},
     "output_type": "execute_result"
    }
   ],
   "source": [
    "result = pd.merge(df.reset_index().rename({'index' : 'Timestamp'}, axis=1), tw_group.reset_index(), how='right', on='Timestamp')[['Timestamp', 'open', 'sentiment']]\n",
    "result"
   ]
  },
  {
   "cell_type": "code",
   "execution_count": 19,
   "id": "81e08fce",
   "metadata": {},
   "outputs": [
    {
     "data": {
      "text/html": [
       "<div>\n",
       "<style scoped>\n",
       "    .dataframe tbody tr th:only-of-type {\n",
       "        vertical-align: middle;\n",
       "    }\n",
       "\n",
       "    .dataframe tbody tr th {\n",
       "        vertical-align: top;\n",
       "    }\n",
       "\n",
       "    .dataframe thead th {\n",
       "        text-align: right;\n",
       "    }\n",
       "</style>\n",
       "<table border=\"1\" class=\"dataframe\">\n",
       "  <thead>\n",
       "    <tr style=\"text-align: right;\">\n",
       "      <th></th>\n",
       "      <th>Timestamp</th>\n",
       "      <th>open</th>\n",
       "      <th>sentiment</th>\n",
       "    </tr>\n",
       "  </thead>\n",
       "  <tbody>\n",
       "    <tr>\n",
       "      <th>1</th>\n",
       "      <td>2020-06-02 09:00:00</td>\n",
       "      <td>294200.0</td>\n",
       "      <td>pos</td>\n",
       "    </tr>\n",
       "    <tr>\n",
       "      <th>2</th>\n",
       "      <td>2020-06-04 09:00:00</td>\n",
       "      <td>295100.0</td>\n",
       "      <td>pos</td>\n",
       "    </tr>\n",
       "    <tr>\n",
       "      <th>3</th>\n",
       "      <td>2020-06-05 09:00:00</td>\n",
       "      <td>292750.0</td>\n",
       "      <td>neg</td>\n",
       "    </tr>\n",
       "    <tr>\n",
       "      <th>4</th>\n",
       "      <td>2020-06-06 09:00:00</td>\n",
       "      <td>289200.0</td>\n",
       "      <td>pos</td>\n",
       "    </tr>\n",
       "    <tr>\n",
       "      <th>5</th>\n",
       "      <td>2020-06-07 09:00:00</td>\n",
       "      <td>290850.0</td>\n",
       "      <td>pos</td>\n",
       "    </tr>\n",
       "    <tr>\n",
       "      <th>...</th>\n",
       "      <td>...</td>\n",
       "      <td>...</td>\n",
       "      <td>...</td>\n",
       "    </tr>\n",
       "    <tr>\n",
       "      <th>151</th>\n",
       "      <td>2021-04-23 09:00:00</td>\n",
       "      <td>2767000.0</td>\n",
       "      <td>pos</td>\n",
       "    </tr>\n",
       "    <tr>\n",
       "      <th>152</th>\n",
       "      <td>2021-05-23 09:00:00</td>\n",
       "      <td>2913000.0</td>\n",
       "      <td>neg</td>\n",
       "    </tr>\n",
       "    <tr>\n",
       "      <th>153</th>\n",
       "      <td>2021-05-24 09:00:00</td>\n",
       "      <td>2582000.0</td>\n",
       "      <td>neg</td>\n",
       "    </tr>\n",
       "    <tr>\n",
       "      <th>154</th>\n",
       "      <td>2021-06-07 09:00:00</td>\n",
       "      <td>3163000.0</td>\n",
       "      <td>neg</td>\n",
       "    </tr>\n",
       "    <tr>\n",
       "      <th>155</th>\n",
       "      <td>2021-08-06 09:00:00</td>\n",
       "      <td>3260000.0</td>\n",
       "      <td>pos</td>\n",
       "    </tr>\n",
       "  </tbody>\n",
       "</table>\n",
       "<p>155 rows × 3 columns</p>\n",
       "</div>"
      ],
      "text/plain": [
       "              Timestamp       open sentiment\n",
       "1   2020-06-02 09:00:00   294200.0       pos\n",
       "2   2020-06-04 09:00:00   295100.0       pos\n",
       "3   2020-06-05 09:00:00   292750.0       neg\n",
       "4   2020-06-06 09:00:00   289200.0       pos\n",
       "5   2020-06-07 09:00:00   290850.0       pos\n",
       "..                  ...        ...       ...\n",
       "151 2021-04-23 09:00:00  2767000.0       pos\n",
       "152 2021-05-23 09:00:00  2913000.0       neg\n",
       "153 2021-05-24 09:00:00  2582000.0       neg\n",
       "154 2021-06-07 09:00:00  3163000.0       neg\n",
       "155 2021-08-06 09:00:00  3260000.0       pos\n",
       "\n",
       "[155 rows x 3 columns]"
      ]
     },
     "execution_count": 19,
     "metadata": {},
     "output_type": "execute_result"
    }
   ],
   "source": [
    "result = result.dropna()\n",
    "result"
   ]
  },
  {
   "cell_type": "code",
   "execution_count": 20,
   "id": "1e35384a",
   "metadata": {},
   "outputs": [
    {
     "data": {
      "text/html": [
       "<div>\n",
       "<style scoped>\n",
       "    .dataframe tbody tr th:only-of-type {\n",
       "        vertical-align: middle;\n",
       "    }\n",
       "\n",
       "    .dataframe tbody tr th {\n",
       "        vertical-align: top;\n",
       "    }\n",
       "\n",
       "    .dataframe thead th {\n",
       "        text-align: right;\n",
       "    }\n",
       "</style>\n",
       "<table border=\"1\" class=\"dataframe\">\n",
       "  <thead>\n",
       "    <tr style=\"text-align: right;\">\n",
       "      <th></th>\n",
       "      <th>open</th>\n",
       "      <th>sentiment</th>\n",
       "    </tr>\n",
       "    <tr>\n",
       "      <th>Timestamp</th>\n",
       "      <th></th>\n",
       "      <th></th>\n",
       "    </tr>\n",
       "  </thead>\n",
       "  <tbody>\n",
       "    <tr>\n",
       "      <th>2020-06-02 09:00:00</th>\n",
       "      <td>294200.0</td>\n",
       "      <td>pos</td>\n",
       "    </tr>\n",
       "    <tr>\n",
       "      <th>2020-06-04 09:00:00</th>\n",
       "      <td>295100.0</td>\n",
       "      <td>pos</td>\n",
       "    </tr>\n",
       "    <tr>\n",
       "      <th>2020-06-05 09:00:00</th>\n",
       "      <td>292750.0</td>\n",
       "      <td>neg</td>\n",
       "    </tr>\n",
       "    <tr>\n",
       "      <th>2020-06-06 09:00:00</th>\n",
       "      <td>289200.0</td>\n",
       "      <td>pos</td>\n",
       "    </tr>\n",
       "    <tr>\n",
       "      <th>2020-06-07 09:00:00</th>\n",
       "      <td>290850.0</td>\n",
       "      <td>pos</td>\n",
       "    </tr>\n",
       "    <tr>\n",
       "      <th>...</th>\n",
       "      <td>...</td>\n",
       "      <td>...</td>\n",
       "    </tr>\n",
       "    <tr>\n",
       "      <th>2021-04-23 09:00:00</th>\n",
       "      <td>2767000.0</td>\n",
       "      <td>pos</td>\n",
       "    </tr>\n",
       "    <tr>\n",
       "      <th>2021-05-23 09:00:00</th>\n",
       "      <td>2913000.0</td>\n",
       "      <td>neg</td>\n",
       "    </tr>\n",
       "    <tr>\n",
       "      <th>2021-05-24 09:00:00</th>\n",
       "      <td>2582000.0</td>\n",
       "      <td>neg</td>\n",
       "    </tr>\n",
       "    <tr>\n",
       "      <th>2021-06-07 09:00:00</th>\n",
       "      <td>3163000.0</td>\n",
       "      <td>neg</td>\n",
       "    </tr>\n",
       "    <tr>\n",
       "      <th>2021-08-06 09:00:00</th>\n",
       "      <td>3260000.0</td>\n",
       "      <td>pos</td>\n",
       "    </tr>\n",
       "  </tbody>\n",
       "</table>\n",
       "<p>155 rows × 2 columns</p>\n",
       "</div>"
      ],
      "text/plain": [
       "                          open sentiment\n",
       "Timestamp                               \n",
       "2020-06-02 09:00:00   294200.0       pos\n",
       "2020-06-04 09:00:00   295100.0       pos\n",
       "2020-06-05 09:00:00   292750.0       neg\n",
       "2020-06-06 09:00:00   289200.0       pos\n",
       "2020-06-07 09:00:00   290850.0       pos\n",
       "...                        ...       ...\n",
       "2021-04-23 09:00:00  2767000.0       pos\n",
       "2021-05-23 09:00:00  2913000.0       neg\n",
       "2021-05-24 09:00:00  2582000.0       neg\n",
       "2021-06-07 09:00:00  3163000.0       neg\n",
       "2021-08-06 09:00:00  3260000.0       pos\n",
       "\n",
       "[155 rows x 2 columns]"
      ]
     },
     "execution_count": 20,
     "metadata": {},
     "output_type": "execute_result"
    }
   ],
   "source": [
    "result = result.set_index('Timestamp')\n",
    "result"
   ]
  },
  {
   "cell_type": "code",
   "execution_count": 22,
   "id": "f27a8e59",
   "metadata": {},
   "outputs": [
    {
     "data": {
      "image/png": "[encoded data removed]",
      "text/plain": [
       "<Figure size 1152x648 with 1 Axes>"
      ]
     },
     "metadata": {
      "needs_background": "light"
     },
     "output_type": "display_data"
    }
   ],
   "source": [
    "rcParams['figure.figsize'] = 16,9\n",
    "\n",
    "plt.xlabel('Date')\n",
    "plt.ylabel('Price')\n",
    "\n",
    "plt.xticks(rotation=\"45\")\n",
    "# ax = sns.lineplot(data=df['open'])\n",
    "ax = sns.lineplot(data=result['open'])\n",
    "ax = sns.scatterplot(data=result, x='Timestamp', y='open', hue='sentiment', style='sentiment')\n",
    "plt.show()"
   ]
  },
  {
   "cell_type": "code",
   "execution_count": 39,
   "id": "832368ec",
   "metadata": {},
   "outputs": [
    {
     "data": {
      "application/vnd.plotly.v1+json": {
       "config": {
        "plotlyServerURL": "https://plot.ly"
       },
       "data": [
        {
         "mode": "lines+markers",
         "name": "pos",
         "type": "scatter",
         "x": [
          "2020-06-02T09:00:00",
          "2020-06-04T09:00:00",
          "2020-06-05T09:00:00",
          "2020-06-06T09:00:00",
          "2020-06-07T09:00:00",
          "2020-06-08T09:00:00",
          "2020-06-10T09:00:00",
          "2020-06-11T09:00:00",
          "2020-06-12T09:00:00",
          "2020-06-14T09:00:00",
          "2020-06-15T09:00:00",
          "2020-06-16T09:00:00",
          "2020-06-17T09:00:00",
          "2020-06-18T09:00:00",
          "2020-06-19T09:00:00",
          "2020-06-20T09:00:00",
          "2020-06-21T09:00:00",
          "2020-06-22T09:00:00",
          "2020-06-23T09:00:00",
          "2020-06-24T09:00:00",
          "2020-06-25T09:00:00",
          "2020-06-26T09:00:00",
          "2020-06-27T09:00:00",
          "2020-06-28T09:00:00",
          "2020-06-30T09:00:00",
          "2020-07-01T09:00:00",
          "2020-07-03T09:00:00",
          "2020-07-04T09:00:00",
          "2020-07-05T09:00:00",
          "2020-07-06T09:00:00",
          "2020-07-07T09:00:00",
          "2020-07-13T09:00:00",
          "2020-07-14T09:00:00",
          "2020-07-15T09:00:00",
          "2020-07-16T09:00:00",
          "2020-07-17T09:00:00",
          "2020-07-20T09:00:00",
          "2020-07-21T09:00:00",
          "2020-07-22T09:00:00",
          "2020-07-23T09:00:00",
          "2020-07-24T09:00:00",
          "2020-07-26T09:00:00",
          "2020-07-27T09:00:00",
          "2020-07-29T09:00:00",
          "2020-07-30T09:00:00",
          "2020-07-31T09:00:00",
          "2020-08-02T09:00:00",
          "2020-08-04T09:00:00",
          "2020-08-05T09:00:00",
          "2020-08-06T09:00:00",
          "2020-08-07T09:00:00",
          "2020-08-09T09:00:00",
          "2020-08-11T09:00:00",
          "2020-08-12T09:00:00",
          "2020-08-14T09:00:00",
          "2020-08-15T09:00:00",
          "2020-08-16T09:00:00",
          "2020-08-17T09:00:00",
          "2020-08-18T09:00:00",
          "2020-08-19T09:00:00",
          "2020-08-20T09:00:00",
          "2020-08-21T09:00:00",
          "2020-08-22T09:00:00",
          "2020-08-23T09:00:00",
          "2020-08-24T09:00:00",
          "2020-08-26T09:00:00",
          "2020-08-30T09:00:00",
          "2020-08-31T09:00:00",
          "2020-09-01T09:00:00",
          "2020-09-02T09:00:00",
          "2020-09-03T09:00:00",
          "2020-09-04T09:00:00",
          "2020-09-06T09:00:00",
          "2020-09-08T09:00:00",
          "2020-09-11T09:00:00",
          "2020-09-12T09:00:00",
          "2020-09-13T09:00:00",
          "2020-09-14T09:00:00",
          "2020-09-18T09:00:00",
          "2020-09-19T09:00:00",
          "2020-09-20T09:00:00",
          "2020-09-21T09:00:00",
          "2020-09-23T09:00:00",
          "2020-09-24T09:00:00",
          "2020-09-26T09:00:00",
          "2020-09-27T09:00:00",
          "2020-09-29T09:00:00",
          "2020-09-30T09:00:00",
          "2020-10-01T09:00:00",
          "2020-10-02T09:00:00",
          "2020-10-03T09:00:00",
          "2020-10-04T09:00:00",
          "2020-10-05T09:00:00",
          "2020-10-06T09:00:00",
          "2020-10-08T09:00:00",
          "2020-10-09T09:00:00",
          "2020-10-10T09:00:00",
          "2020-10-11T09:00:00",
          "2020-10-12T09:00:00",
          "2020-10-13T09:00:00",
          "2020-10-14T09:00:00",
          "2020-10-15T09:00:00",
          "2020-10-16T09:00:00",
          "2020-10-19T09:00:00",
          "2020-10-20T09:00:00",
          "2020-10-21T09:00:00",
          "2020-10-22T09:00:00",
          "2020-10-26T09:00:00",
          "2020-10-28T09:00:00",
          "2020-10-29T09:00:00",
          "2020-10-30T09:00:00",
          "2020-11-03T09:00:00",
          "2020-11-04T09:00:00",
          "2020-11-06T09:00:00",
          "2020-11-08T09:00:00",
          "2020-11-09T09:00:00",
          "2020-11-11T09:00:00",
          "2020-11-12T09:00:00",
          "2020-11-16T09:00:00",
          "2020-11-17T09:00:00",
          "2020-11-18T09:00:00",
          "2020-11-19T09:00:00",
          "2020-11-21T09:00:00",
          "2020-11-22T09:00:00",
          "2020-11-23T09:00:00",
          "2020-11-24T09:00:00",
          "2020-11-25T09:00:00",
          "2020-11-26T09:00:00",
          "2020-11-27T09:00:00",
          "2020-11-28T09:00:00",
          "2020-11-29T09:00:00",
          "2020-11-30T09:00:00",
          "2020-12-01T09:00:00",
          "2020-12-06T09:00:00",
          "2020-12-07T09:00:00",
          "2020-12-09T09:00:00",
          "2020-12-14T09:00:00",
          "2020-12-19T09:00:00",
          "2020-12-20T09:00:00",
          "2020-12-21T09:00:00",
          "2020-12-22T09:00:00",
          "2020-12-28T09:00:00",
          "2021-01-01T09:00:00",
          "2021-01-12T09:00:00",
          "2021-02-01T09:00:00",
          "2021-03-10T09:00:00",
          "2021-03-16T09:00:00",
          "2021-03-23T09:00:00",
          "2021-04-02T09:00:00",
          "2021-04-07T09:00:00",
          "2021-04-23T09:00:00",
          "2021-05-23T09:00:00",
          "2021-05-24T09:00:00",
          "2021-06-07T09:00:00",
          "2021-08-06T09:00:00"
         ],
         "y": [
          294200,
          295100,
          292750,
          289200,
          290850,
          293000,
          292000,
          294100,
          275500,
          286600,
          279050,
          277900,
          282950,
          282700,
          279450,
          277150,
          276950,
          275450,
          291500,
          290500,
          282950,
          280050,
          276650,
          267750,
          272200,
          269750,
          271050,
          269050,
          272950,
          271850,
          285800,
          287900,
          285500,
          285700,
          284850,
          279450,
          283650,
          282050,
          290650,
          311750,
          325000,
          361000,
          366950,
          371050,
          375950,
          394750,
          456400,
          456500,
          463400,
          472950,
          465250,
          467450,
          465500,
          452650,
          497900,
          514500,
          506300,
          505800,
          499000,
          494500,
          481550,
          490250,
          464200,
          469450,
          463150,
          455850,
          468050,
          500800,
          511600,
          557400,
          524400,
          462300,
          408100,
          422300,
          439000,
          443850,
          459950,
          438700,
          455450,
          449650,
          450100,
          435350,
          403650,
          374750,
          410000,
          412750,
          412700,
          417700,
          419250,
          413600,
          406600,
          406300,
          411250,
          411250,
          398400,
          404400,
          417650,
          422000,
          425100,
          441650,
          437900,
          435850,
          434150,
          433900,
          433050,
          422400,
          441000,
          457300,
          452450,
          441100,
          438000,
          435450,
          438800,
          464850,
          489050,
          507100,
          501700,
          514600,
          496750,
          503100,
          528500,
          530500,
          564500,
          601100,
          619300,
          666200,
          664600,
          634300,
          582900,
          578900,
          591600,
          633700,
          666000,
          648200,
          652000,
          605900,
          640500,
          711900,
          723200,
          704000,
          678200,
          765500,
          815100,
          1227000,
          1444000,
          2143000,
          2076000,
          2011000,
          2436000,
          2836000,
          2767000,
          2913000,
          2582000,
          3163000,
          3260000
         ]
        },
        {
         "mode": "markers",
         "name": "neg",
         "type": "scatter",
         "x": [
          "2020-06-05T09:00:00",
          "2020-06-11T09:00:00",
          "2020-06-25T09:00:00",
          "2020-06-30T09:00:00",
          "2020-07-26T09:00:00",
          "2020-08-04T09:00:00",
          "2020-08-05T09:00:00",
          "2020-09-03T09:00:00",
          "2020-09-08T09:00:00",
          "2020-09-20T09:00:00",
          "2020-09-21T09:00:00",
          "2020-09-30T09:00:00",
          "2020-10-05T09:00:00",
          "2020-10-06T09:00:00",
          "2020-10-10T09:00:00",
          "2020-10-11T09:00:00",
          "2020-10-14T09:00:00",
          "2020-11-12T09:00:00",
          "2020-11-17T09:00:00",
          "2020-12-01T09:00:00",
          "2020-12-21T09:00:00",
          "2021-05-23T09:00:00",
          "2021-05-24T09:00:00",
          "2021-06-07T09:00:00"
         ],
         "y": [
          292750,
          294100,
          282950,
          272200,
          361000,
          456500,
          463400,
          524400,
          422300,
          450100,
          435350,
          417700,
          411250,
          411250,
          417650,
          422000,
          437900,
          514600,
          503100,
          666000,
          704000,
          2913000,
          2582000,
          3163000
         ]
        }
       ],
       "layout": {
        "template": {
         "data": {
          "bar": [
           {
            "error_x": {
             "color": "#2a3f5f"
            },
            "error_y": {
             "color": "#2a3f5f"
            },
            "marker": {
             "line": {
              "color": "#E5ECF6",
              "width": 0.5
             },
             "pattern": {
              "fillmode": "overlay",
              "size": 10,
              "solidity": 0.2
             }
            },
            "type": "bar"
           }
          ],
          "barpolar": [
           {
            "marker": {
             "line": {
              "color": "#E5ECF6",
              "width": 0.5
             },
             "pattern": {
              "fillmode": "overlay",
              "size": 10,
              "solidity": 0.2
             }
            },
            "type": "barpolar"
           }
          ],
          "carpet": [
           {
            "aaxis": {
             "endlinecolor": "#2a3f5f",
             "gridcolor": "white",
             "linecolor": "white",
             "minorgridcolor": "white",
             "startlinecolor": "#2a3f5f"
            },
            "baxis": {
             "endlinecolor": "#2a3f5f",
             "gridcolor": "white",
             "linecolor": "white",
             "minorgridcolor": "white",
             "startlinecolor": "#2a3f5f"
            },
            "type": "carpet"
           }
          ],
          "choropleth": [
           {
            "colorbar": {
             "outlinewidth": 0,
             "ticks": ""
            },
            "type": "choropleth"
           }
          ],
          "contour": [
           {
            "colorbar": {
             "outlinewidth": 0,
             "ticks": ""
            },
            "colorscale": [
             [
              0,
              "#0d0887"
             ],
             [
              0.1111111111111111,
              "#46039f"
             ],
             [
              0.2222222222222222,
              "#7201a8"
             ],
             [
              0.3333333333333333,
              "#9c179e"
             ],
             [
              0.4444444444444444,
              "#bd3786"
             ],
             [
              0.5555555555555556,
              "#d8576b"
             ],
             [
              0.6666666666666666,
              "#ed7953"
             ],
             [
              0.7777777777777778,
              "#fb9f3a"
             ],
             [
              0.8888888888888888,
              "#fdca26"
             ],
             [
              1,
              "#f0f921"
             ]
            ],
            "type": "contour"
           }
          ],
          "contourcarpet": [
           {
            "colorbar": {
             "outlinewidth": 0,
             "ticks": ""
            },
            "type": "contourcarpet"
           }
          ],
          "heatmap": [
           {
            "colorbar": {
             "outlinewidth": 0,
             "ticks": ""
            },
            "colorscale": [
             [
              0,
              "#0d0887"
             ],
             [
              0.1111111111111111,
              "#46039f"
             ],
             [
              0.2222222222222222,
              "#7201a8"
             ],
             [
              0.3333333333333333,
              "#9c179e"
             ],
             [
              0.4444444444444444,
              "#bd3786"
             ],
             [
              0.5555555555555556,
              "#d8576b"
             ],
             [
              0.6666666666666666,
              "#ed7953"
             ],
             [
              0.7777777777777778,
              "#fb9f3a"
             ],
             [
              0.8888888888888888,
              "#fdca26"
             ],
             [
              1,
              "#f0f921"
             ]
            ],
            "type": "heatmap"
           }
          ],
          "heatmapgl": [
           {
            "colorbar": {
             "outlinewidth": 0,
             "ticks": ""
            },
            "colorscale": [
             [
              0,
              "#0d0887"
             ],
             [
              0.1111111111111111,
              "#46039f"
             ],
             [
              0.2222222222222222,
              "#7201a8"
             ],
             [
              0.3333333333333333,
              "#9c179e"
             ],
             [
              0.4444444444444444,
              "#bd3786"
             ],
             [
              0.5555555555555556,
              "#d8576b"
             ],
             [
              0.6666666666666666,
              "#ed7953"
             ],
             [
              0.7777777777777778,
              "#fb9f3a"
             ],
             [
              0.8888888888888888,
              "#fdca26"
             ],
             [
              1,
              "#f0f921"
             ]
            ],
            "type": "heatmapgl"
           }
          ],
          "histogram": [
           {
            "marker": {
             "pattern": {
              "fillmode": "overlay",
              "size": 10,
              "solidity": 0.2
             }
            },
            "type": "histogram"
           }
          ],
          "histogram2d": [
           {
            "colorbar": {
             "outlinewidth": 0,
             "ticks": ""
            },
            "colorscale": [
             [
              0,
              "#0d0887"
             ],
             [
              0.1111111111111111,
              "#46039f"
             ],
             [
              0.2222222222222222,
              "#7201a8"
             ],
             [
              0.3333333333333333,
              "#9c179e"
             ],
             [
              0.4444444444444444,
              "#bd3786"
             ],
             [
              0.5555555555555556,
              "#d8576b"
             ],
             [
              0.6666666666666666,
              "#ed7953"
             ],
             [
              0.7777777777777778,
              "#fb9f3a"
             ],
             [
              0.8888888888888888,
              "#fdca26"
             ],
             [
              1,
              "#f0f921"
             ]
            ],
            "type": "histogram2d"
           }
          ],
          "histogram2dcontour": [
           {
            "colorbar": {
             "outlinewidth": 0,
             "ticks": ""
            },
            "colorscale": [
             [
              0,
              "#0d0887"
             ],
             [
              0.1111111111111111,
              "#46039f"
             ],
             [
              0.2222222222222222,
              "#7201a8"
             ],
             [
              0.3333333333333333,
              "#9c179e"
             ],
             [
              0.4444444444444444,
              "#bd3786"
             ],
             [
              0.5555555555555556,
              "#d8576b"
             ],
             [
              0.6666666666666666,
              "#ed7953"
             ],
             [
              0.7777777777777778,
              "#fb9f3a"
             ],
             [
              0.8888888888888888,
              "#fdca26"
             ],
             [
              1,
              "#f0f921"
             ]
            ],
            "type": "histogram2dcontour"
           }
          ],
          "mesh3d": [
           {
            "colorbar": {
             "outlinewidth": 0,
             "ticks": ""
            },
            "type": "mesh3d"
           }
          ],
          "parcoords": [
           {
            "line": {
             "colorbar": {
              "outlinewidth": 0,
              "ticks": ""
             }
            },
            "type": "parcoords"
           }
          ],
          "pie": [
           {
            "automargin": true,
            "type": "pie"
           }
          ],
          "scatter": [
           {
            "marker": {
             "colorbar": {
              "outlinewidth": 0,
              "ticks": ""
             }
            },
            "type": "scatter"
           }
          ],
          "scatter3d": [
           {
            "line": {
             "colorbar": {
              "outlinewidth": 0,
              "ticks": ""
             }
            },
            "marker": {
             "colorbar": {
              "outlinewidth": 0,
              "ticks": ""
             }
            },
            "type": "scatter3d"
           }
          ],
          "scattercarpet": [
           {
            "marker": {
             "colorbar": {
              "outlinewidth": 0,
              "ticks": ""
             }
            },
            "type": "scattercarpet"
           }
          ],
          "scattergeo": [
           {
            "marker": {
             "colorbar": {
              "outlinewidth": 0,
              "ticks": ""
             }
            },
            "type": "scattergeo"
           }
          ],
          "scattergl": [
           {
            "marker": {
             "colorbar": {
              "outlinewidth": 0,
              "ticks": ""
             }
            },
            "type": "scattergl"
           }
          ],
          "scattermapbox": [
           {
            "marker": {
             "colorbar": {
              "outlinewidth": 0,
              "ticks": ""
             }
            },
            "type": "scattermapbox"
           }
          ],
          "scatterpolar": [
           {
            "marker": {
             "colorbar": {
              "outlinewidth": 0,
              "ticks": ""
             }
            },
            "type": "scatterpolar"
           }
          ],
          "scatterpolargl": [
           {
            "marker": {
             "colorbar": {
              "outlinewidth": 0,
              "ticks": ""
             }
            },
            "type": "scatterpolargl"
           }
          ],
          "scatterternary": [
           {
            "marker": {
             "colorbar": {
              "outlinewidth": 0,
              "ticks": ""
             }
            },
            "type": "scatterternary"
           }
          ],
          "surface": [
           {
            "colorbar": {
             "outlinewidth": 0,
             "ticks": ""
            },
            "colorscale": [
             [
              0,
              "#0d0887"
             ],
             [
              0.1111111111111111,
              "#46039f"
             ],
             [
              0.2222222222222222,
              "#7201a8"
             ],
             [
              0.3333333333333333,
              "#9c179e"
             ],
             [
              0.4444444444444444,
              "#bd3786"
             ],
             [
              0.5555555555555556,
              "#d8576b"
             ],
             [
              0.6666666666666666,
              "#ed7953"
             ],
             [
              0.7777777777777778,
              "#fb9f3a"
             ],
             [
              0.8888888888888888,
              "#fdca26"
             ],
             [
              1,
              "#f0f921"
             ]
            ],
            "type": "surface"
           }
          ],
          "table": [
           {
            "cells": {
             "fill": {
              "color": "#EBF0F8"
             },
             "line": {
              "color": "white"
             }
            },
            "header": {
             "fill": {
              "color": "#C8D4E3"
             },
             "line": {
              "color": "white"
             }
            },
            "type": "table"
           }
          ]
         },
         "layout": {
          "annotationdefaults": {
           "arrowcolor": "#2a3f5f",
           "arrowhead": 0,
           "arrowwidth": 1
          },
          "autotypenumbers": "strict",
          "coloraxis": {
           "colorbar": {
            "outlinewidth": 0,
            "ticks": ""
           }
          },
          "colorscale": {
           "diverging": [
            [
             0,
             "#8e0152"
            ],
            [
             0.1,
             "#c51b7d"
            ],
            [
             0.2,
             "#de77ae"
            ],
            [
             0.3,
             "#f1b6da"
            ],
            [
             0.4,
             "#fde0ef"
            ],
            [
             0.5,
             "#f7f7f7"
            ],
            [
             0.6,
             "#e6f5d0"
            ],
            [
             0.7,
             "#b8e186"
            ],
            [
             0.8,
             "#7fbc41"
            ],
            [
             0.9,
             "#4d9221"
            ],
            [
             1,
             "#276419"
            ]
           ],
           "sequential": [
            [
             0,
             "#0d0887"
            ],
            [
             0.1111111111111111,
             "#46039f"
            ],
            [
             0.2222222222222222,
             "#7201a8"
            ],
            [
             0.3333333333333333,
             "#9c179e"
            ],
            [
             0.4444444444444444,
             "#bd3786"
            ],
            [
             0.5555555555555556,
             "#d8576b"
            ],
            [
             0.6666666666666666,
             "#ed7953"
            ],
            [
             0.7777777777777778,
             "#fb9f3a"
            ],
            [
             0.8888888888888888,
             "#fdca26"
            ],
            [
             1,
             "#f0f921"
            ]
           ],
           "sequentialminus": [
            [
             0,
             "#0d0887"
            ],
            [
             0.1111111111111111,
             "#46039f"
            ],
            [
             0.2222222222222222,
             "#7201a8"
            ],
            [
             0.3333333333333333,
             "#9c179e"
            ],
            [
             0.4444444444444444,
             "#bd3786"
            ],
            [
             0.5555555555555556,
             "#d8576b"
            ],
            [
             0.6666666666666666,
             "#ed7953"
            ],
            [
             0.7777777777777778,
             "#fb9f3a"
            ],
            [
             0.8888888888888888,
             "#fdca26"
            ],
            [
             1,
             "#f0f921"
            ]
           ]
          },
          "colorway": [
           "#636efa",
           "#EF553B",
           "#00cc96",
           "#ab63fa",
           "#FFA15A",
           "#19d3f3",
           "#FF6692",
           "#B6E880",
           "#FF97FF",
           "#FECB52"
          ],
          "font": {
           "color": "#2a3f5f"
          },
          "geo": {
           "bgcolor": "white",
           "lakecolor": "white",
           "landcolor": "#E5ECF6",
           "showlakes": true,
           "showland": true,
           "subunitcolor": "white"
          },
          "hoverlabel": {
           "align": "left"
          },
          "hovermode": "closest",
          "mapbox": {
           "style": "light"
          },
          "paper_bgcolor": "white",
          "plot_bgcolor": "#E5ECF6",
          "polar": {
           "angularaxis": {
            "gridcolor": "white",
            "linecolor": "white",
            "ticks": ""
           },
           "bgcolor": "#E5ECF6",
           "radialaxis": {
            "gridcolor": "white",
            "linecolor": "white",
            "ticks": ""
           }
          },
          "scene": {
           "xaxis": {
            "backgroundcolor": "#E5ECF6",
            "gridcolor": "white",
            "gridwidth": 2,
            "linecolor": "white",
            "showbackground": true,
            "ticks": "",
            "zerolinecolor": "white"
           },
           "yaxis": {
            "backgroundcolor": "#E5ECF6",
            "gridcolor": "white",
            "gridwidth": 2,
            "linecolor": "white",
            "showbackground": true,
            "ticks": "",
            "zerolinecolor": "white"
           },
           "zaxis": {
            "backgroundcolor": "#E5ECF6",
            "gridcolor": "white",
            "gridwidth": 2,
            "linecolor": "white",
            "showbackground": true,
            "ticks": "",
            "zerolinecolor": "white"
           }
          },
          "shapedefaults": {
           "line": {
            "color": "#2a3f5f"
           }
          },
          "ternary": {
           "aaxis": {
            "gridcolor": "white",
            "linecolor": "white",
            "ticks": ""
           },
           "baxis": {
            "gridcolor": "white",
            "linecolor": "white",
            "ticks": ""
           },
           "bgcolor": "#E5ECF6",
           "caxis": {
            "gridcolor": "white",
            "linecolor": "white",
            "ticks": ""
           }
          },
          "title": {
           "x": 0.05
          },
          "xaxis": {
           "automargin": true,
           "gridcolor": "white",
           "linecolor": "white",
           "ticks": "",
           "title": {
            "standoff": 15
           },
           "zerolinecolor": "white",
           "zerolinewidth": 2
          },
          "yaxis": {
           "automargin": true,
           "gridcolor": "white",
           "linecolor": "white",
           "ticks": "",
           "title": {
            "standoff": 15
           },
           "zerolinecolor": "white",
           "zerolinewidth": 2
          }
         }
        }
       }
      },
      "text/html": [
       "<div>                            <div id=\"61936920-e1b2-4bbd-a306-78d6c0d335c5\" class=\"plotly-graph-div\" style=\"height:525px; width:100%;\"></div>            <script type=\"text/javascript\">                require([\"plotly\"], function(Plotly) {                    window.PLOTLYENV=window.PLOTLYENV || {};                                    if (document.getElementById(\"61936920-e1b2-4bbd-a306-78d6c0d335c5\")) {                    Plotly.newPlot(                        \"61936920-e1b2-4bbd-a306-78d6c0d335c5\",                        [{\"mode\":\"lines+markers\",\"name\":\"pos\",\"type\":\"scatter\",\"x\":[\"2020-06-02T09:00:00\",\"2020-06-04T09:00:00\",\"2020-06-05T09:00:00\",\"2020-06-06T09:00:00\",\"2020-06-07T09:00:00\",\"2020-06-08T09:00:00\",\"2020-06-10T09:00:00\",\"2020-06-11T09:00:00\",\"2020-06-12T09:00:00\",\"2020-06-14T09:00:00\",\"2020-06-15T09:00:00\",\"2020-06-16T09:00:00\",\"2020-06-17T09:00:00\",\"2020-06-18T09:00:00\",\"2020-06-19T09:00:00\",\"2020-06-20T09:00:00\",\"2020-06-21T09:00:00\",\"2020-06-22T09:00:00\",\"2020-06-23T09:00:00\",\"2020-06-24T09:00:00\",\"2020-06-25T09:00:00\",\"2020-06-26T09:00:00\",\"2020-06-27T09:00:00\",\"2020-06-28T09:00:00\",\"2020-06-30T09:00:00\",\"2020-07-01T09:00:00\",\"2020-07-03T09:00:00\",\"2020-07-04T09:00:00\",\"2020-07-05T09:00:00\",\"2020-07-06T09:00:00\",\"2020-07-07T09:00:00\",\"2020-07-13T09:00:00\",\"2020-07-14T09:00:00\",\"2020-07-15T09:00:00\",\"2020-07-16T09:00:00\",\"2020-07-17T09:00:00\",\"2020-07-20T09:00:00\",\"2020-07-21T09:00:00\",\"2020-07-22T09:00:00\",\"2020-07-23T09:00:00\",\"2020-07-24T09:00:00\",\"2020-07-26T09:00:00\",\"2020-07-27T09:00:00\",\"2020-07-29T09:00:00\",\"2020-07-30T09:00:00\",\"2020-07-31T09:00:00\",\"2020-08-02T09:00:00\",\"2020-08-04T09:00:00\",\"2020-08-05T09:00:00\",\"2020-08-06T09:00:00\",\"2020-08-07T09:00:00\",\"2020-08-09T09:00:00\",\"2020-08-11T09:00:00\",\"2020-08-12T09:00:00\",\"2020-08-14T09:00:00\",\"2020-08-15T09:00:00\",\"2020-08-16T09:00:00\",\"2020-08-17T09:00:00\",\"2020-08-18T09:00:00\",\"2020-08-19T09:00:00\",\"2020-08-20T09:00:00\",\"2020-08-21T09:00:00\",\"2020-08-22T09:00:00\",\"2020-08-23T09:00:00\",\"2020-08-24T09:00:00\",\"2020-08-26T09:00:00\",\"2020-08-30T09:00:00\",\"2020-08-31T09:00:00\",\"2020-09-01T09:00:00\",\"2020-09-02T09:00:00\",\"2020-09-03T09:00:00\",\"2020-09-04T09:00:00\",\"2020-09-06T09:00:00\",\"2020-09-08T09:00:00\",\"2020-09-11T09:00:00\",\"2020-09-12T09:00:00\",\"2020-09-13T09:00:00\",\"2020-09-14T09:00:00\",\"2020-09-18T09:00:00\",\"2020-09-19T09:00:00\",\"2020-09-20T09:00:00\",\"2020-09-21T09:00:00\",\"2020-09-23T09:00:00\",\"2020-09-24T09:00:00\",\"2020-09-26T09:00:00\",\"2020-09-27T09:00:00\",\"2020-09-29T09:00:00\",\"2020-09-30T09:00:00\",\"2020-10-01T09:00:00\",\"2020-10-02T09:00:00\",\"2020-10-03T09:00:00\",\"2020-10-04T09:00:00\",\"2020-10-05T09:00:00\",\"2020-10-06T09:00:00\",\"2020-10-08T09:00:00\",\"2020-10-09T09:00:00\",\"2020-10-10T09:00:00\",\"2020-10-11T09:00:00\",\"2020-10-12T09:00:00\",\"2020-10-13T09:00:00\",\"2020-10-14T09:00:00\",\"2020-10-15T09:00:00\",\"2020-10-16T09:00:00\",\"2020-10-19T09:00:00\",\"2020-10-20T09:00:00\",\"2020-10-21T09:00:00\",\"2020-10-22T09:00:00\",\"2020-10-26T09:00:00\",\"2020-10-28T09:00:00\",\"2020-10-29T09:00:00\",\"2020-10-30T09:00:00\",\"2020-11-03T09:00:00\",\"2020-11-04T09:00:00\",\"2020-11-06T09:00:00\",\"2020-11-08T09:00:00\",\"2020-11-09T09:00:00\",\"2020-11-11T09:00:00\",\"2020-11-12T09:00:00\",\"2020-11-16T09:00:00\",\"2020-11-17T09:00:00\",\"2020-11-18T09:00:00\",\"2020-11-19T09:00:00\",\"2020-11-21T09:00:00\",\"2020-11-22T09:00:00\",\"2020-11-23T09:00:00\",\"2020-11-24T09:00:00\",\"2020-11-25T09:00:00\",\"2020-11-26T09:00:00\",\"2020-11-27T09:00:00\",\"2020-11-28T09:00:00\",\"2020-11-29T09:00:00\",\"2020-11-30T09:00:00\",\"2020-12-01T09:00:00\",\"2020-12-06T09:00:00\",\"2020-12-07T09:00:00\",\"2020-12-09T09:00:00\",\"2020-12-14T09:00:00\",\"2020-12-19T09:00:00\",\"2020-12-20T09:00:00\",\"2020-12-21T09:00:00\",\"2020-12-22T09:00:00\",\"2020-12-28T09:00:00\",\"2021-01-01T09:00:00\",\"2021-01-12T09:00:00\",\"2021-02-01T09:00:00\",\"2021-03-10T09:00:00\",\"2021-03-16T09:00:00\",\"2021-03-23T09:00:00\",\"2021-04-02T09:00:00\",\"2021-04-07T09:00:00\",\"2021-04-23T09:00:00\",\"2021-05-23T09:00:00\",\"2021-05-24T09:00:00\",\"2021-06-07T09:00:00\",\"2021-08-06T09:00:00\"],\"y\":[294200.0,295100.0,292750.0,289200.0,290850.0,293000.0,292000.0,294100.0,275500.0,286600.0,279050.0,277900.0,282950.0,282700.0,279450.0,277150.0,276950.0,275450.0,291500.0,290500.0,282950.0,280050.0,276650.0,267750.0,272200.0,269750.0,271050.0,269050.0,272950.0,271850.0,285800.0,287900.0,285500.0,285700.0,284850.0,279450.0,283650.0,282050.0,290650.0,311750.0,325000.0,361000.0,366950.0,371050.0,375950.0,394750.0,456400.0,456500.0,463400.0,472950.0,465250.0,467450.0,465500.0,452650.0,497900.0,514500.0,506300.0,505800.0,499000.0,494500.0,481550.0,490250.0,464200.0,469450.0,463150.0,455850.0,468050.0,500800.0,511600.0,557400.0,524400.0,462300.0,408100.0,422300.0,439000.0,443850.0,459950.0,438700.0,455450.0,449650.0,450100.0,435350.0,403650.0,374750.0,410000.0,412750.0,412700.0,417700.0,419250.0,413600.0,406600.0,406300.0,411250.0,411250.0,398400.0,404400.0,417650.0,422000.0,425100.0,441650.0,437900.0,435850.0,434150.0,433900.0,433050.0,422400.0,441000.0,457300.0,452450.0,441100.0,438000.0,435450.0,438800.0,464850.0,489050.0,507100.0,501700.0,514600.0,496750.0,503100.0,528500.0,530500.0,564500.0,601100.0,619300.0,666200.0,664600.0,634300.0,582900.0,578900.0,591600.0,633700.0,666000.0,648200.0,652000.0,605900.0,640500.0,711900.0,723200.0,704000.0,678200.0,765500.0,815100.0,1227000.0,1444000.0,2143000.0,2076000.0,2011000.0,2436000.0,2836000.0,2767000.0,2913000.0,2582000.0,3163000.0,3260000.0]},{\"mode\":\"markers\",\"name\":\"neg\",\"type\":\"scatter\",\"x\":[\"2020-06-05T09:00:00\",\"2020-06-11T09:00:00\",\"2020-06-25T09:00:00\",\"2020-06-30T09:00:00\",\"2020-07-26T09:00:00\",\"2020-08-04T09:00:00\",\"2020-08-05T09:00:00\",\"2020-09-03T09:00:00\",\"2020-09-08T09:00:00\",\"2020-09-20T09:00:00\",\"2020-09-21T09:00:00\",\"2020-09-30T09:00:00\",\"2020-10-05T09:00:00\",\"2020-10-06T09:00:00\",\"2020-10-10T09:00:00\",\"2020-10-11T09:00:00\",\"2020-10-14T09:00:00\",\"2020-11-12T09:00:00\",\"2020-11-17T09:00:00\",\"2020-12-01T09:00:00\",\"2020-12-21T09:00:00\",\"2021-05-23T09:00:00\",\"2021-05-24T09:00:00\",\"2021-06-07T09:00:00\"],\"y\":[292750.0,294100.0,282950.0,272200.0,361000.0,456500.0,463400.0,524400.0,422300.0,450100.0,435350.0,417700.0,411250.0,411250.0,417650.0,422000.0,437900.0,514600.0,503100.0,666000.0,704000.0,2913000.0,2582000.0,3163000.0]}],                        {\"template\":{\"data\":{\"bar\":[{\"error_x\":{\"color\":\"#2a3f5f\"},\"error_y\":{\"color\":\"#2a3f5f\"},\"marker\":{\"line\":{\"color\":\"#E5ECF6\",\"width\":0.5},\"pattern\":{\"fillmode\":\"overlay\",\"size\":10,\"solidity\":0.2}},\"type\":\"bar\"}],\"barpolar\":[{\"marker\":{\"line\":{\"color\":\"#E5ECF6\",\"width\":0.5},\"pattern\":{\"fillmode\":\"overlay\",\"size\":10,\"solidity\":0.2}},\"type\":\"barpolar\"}],\"carpet\":[{\"aaxis\":{\"endlinecolor\":\"#2a3f5f\",\"gridcolor\":\"white\",\"linecolor\":\"white\",\"minorgridcolor\":\"white\",\"startlinecolor\":\"#2a3f5f\"},\"baxis\":{\"endlinecolor\":\"#2a3f5f\",\"gridcolor\":\"white\",\"linecolor\":\"white\",\"minorgridcolor\":\"white\",\"startlinecolor\":\"#2a3f5f\"},\"type\":\"carpet\"}],\"choropleth\":[{\"colorbar\":{\"outlinewidth\":0,\"ticks\":\"\"},\"type\":\"choropleth\"}],\"contour\":[{\"colorbar\":{\"outlinewidth\":0,\"ticks\":\"\"},\"colorscale\":[[0.0,\"#0d0887\"],[0.1111111111111111,\"#46039f\"],[0.2222222222222222,\"#7201a8\"],[0.3333333333333333,\"#9c179e\"],[0.4444444444444444,\"#bd3786\"],[0.5555555555555556,\"#d8576b\"],[0.6666666666666666,\"#ed7953\"],[0.7777777777777778,\"#fb9f3a\"],[0.8888888888888888,\"#fdca26\"],[1.0,\"#f0f921\"]],\"type\":\"contour\"}],\"contourcarpet\":[{\"colorbar\":{\"outlinewidth\":0,\"ticks\":\"\"},\"type\":\"contourcarpet\"}],\"heatmap\":[{\"colorbar\":{\"outlinewidth\":0,\"ticks\":\"\"},\"colorscale\":[[0.0,\"#0d0887\"],[0.1111111111111111,\"#46039f\"],[0.2222222222222222,\"#7201a8\"],[0.3333333333333333,\"#9c179e\"],[0.4444444444444444,\"#bd3786\"],[0.5555555555555556,\"#d8576b\"],[0.6666666666666666,\"#ed7953\"],[0.7777777777777778,\"#fb9f3a\"],[0.8888888888888888,\"#fdca26\"],[1.0,\"#f0f921\"]],\"type\":\"heatmap\"}],\"heatmapgl\":[{\"colorbar\":{\"outlinewidth\":0,\"ticks\":\"\"},\"colorscale\":[[0.0,\"#0d0887\"],[0.1111111111111111,\"#46039f\"],[0.2222222222222222,\"#7201a8\"],[0.3333333333333333,\"#9c179e\"],[0.4444444444444444,\"#bd3786\"],[0.5555555555555556,\"#d8576b\"],[0.6666666666666666,\"#ed7953\"],[0.7777777777777778,\"#fb9f3a\"],[0.8888888888888888,\"#fdca26\"],[1.0,\"#f0f921\"]],\"type\":\"heatmapgl\"}],\"histogram\":[{\"marker\":{\"pattern\":{\"fillmode\":\"overlay\",\"size\":10,\"solidity\":0.2}},\"type\":\"histogram\"}],\"histogram2d\":[{\"colorbar\":{\"outlinewidth\":0,\"ticks\":\"\"},\"colorscale\":[[0.0,\"#0d0887\"],[0.1111111111111111,\"#46039f\"],[0.2222222222222222,\"#7201a8\"],[0.3333333333333333,\"#9c179e\"],[0.4444444444444444,\"#bd3786\"],[0.5555555555555556,\"#d8576b\"],[0.6666666666666666,\"#ed7953\"],[0.7777777777777778,\"#fb9f3a\"],[0.8888888888888888,\"#fdca26\"],[1.0,\"#f0f921\"]],\"type\":\"histogram2d\"}],\"histogram2dcontour\":[{\"colorbar\":{\"outlinewidth\":0,\"ticks\":\"\"},\"colorscale\":[[0.0,\"#0d0887\"],[0.1111111111111111,\"#46039f\"],[0.2222222222222222,\"#7201a8\"],[0.3333333333333333,\"#9c179e\"],[0.4444444444444444,\"#bd3786\"],[0.5555555555555556,\"#d8576b\"],[0.6666666666666666,\"#ed7953\"],[0.7777777777777778,\"#fb9f3a\"],[0.8888888888888888,\"#fdca26\"],[1.0,\"#f0f921\"]],\"type\":\"histogram2dcontour\"}],\"mesh3d\":[{\"colorbar\":{\"outlinewidth\":0,\"ticks\":\"\"},\"type\":\"mesh3d\"}],\"parcoords\":[{\"line\":{\"colorbar\":{\"outlinewidth\":0,\"ticks\":\"\"}},\"type\":\"parcoords\"}],\"pie\":[{\"automargin\":true,\"type\":\"pie\"}],\"scatter\":[{\"marker\":{\"colorbar\":{\"outlinewidth\":0,\"ticks\":\"\"}},\"type\":\"scatter\"}],\"scatter3d\":[{\"line\":{\"colorbar\":{\"outlinewidth\":0,\"ticks\":\"\"}},\"marker\":{\"colorbar\":{\"outlinewidth\":0,\"ticks\":\"\"}},\"type\":\"scatter3d\"}],\"scattercarpet\":[{\"marker\":{\"colorbar\":{\"outlinewidth\":0,\"ticks\":\"\"}},\"type\":\"scattercarpet\"}],\"scattergeo\":[{\"marker\":{\"colorbar\":{\"outlinewidth\":0,\"ticks\":\"\"}},\"type\":\"scattergeo\"}],\"scattergl\":[{\"marker\":{\"colorbar\":{\"outlinewidth\":0,\"ticks\":\"\"}},\"type\":\"scattergl\"}],\"scattermapbox\":[{\"marker\":{\"colorbar\":{\"outlinewidth\":0,\"ticks\":\"\"}},\"type\":\"scattermapbox\"}],\"scatterpolar\":[{\"marker\":{\"colorbar\":{\"outlinewidth\":0,\"ticks\":\"\"}},\"type\":\"scatterpolar\"}],\"scatterpolargl\":[{\"marker\":{\"colorbar\":{\"outlinewidth\":0,\"ticks\":\"\"}},\"type\":\"scatterpolargl\"}],\"scatterternary\":[{\"marker\":{\"colorbar\":{\"outlinewidth\":0,\"ticks\":\"\"}},\"type\":\"scatterternary\"}],\"surface\":[{\"colorbar\":{\"outlinewidth\":0,\"ticks\":\"\"},\"colorscale\":[[0.0,\"#0d0887\"],[0.1111111111111111,\"#46039f\"],[0.2222222222222222,\"#7201a8\"],[0.3333333333333333,\"#9c179e\"],[0.4444444444444444,\"#bd3786\"],[0.5555555555555556,\"#d8576b\"],[0.6666666666666666,\"#ed7953\"],[0.7777777777777778,\"#fb9f3a\"],[0.8888888888888888,\"#fdca26\"],[1.0,\"#f0f921\"]],\"type\":\"surface\"}],\"table\":[{\"cells\":{\"fill\":{\"color\":\"#EBF0F8\"},\"line\":{\"color\":\"white\"}},\"header\":{\"fill\":{\"color\":\"#C8D4E3\"},\"line\":{\"color\":\"white\"}},\"type\":\"table\"}]},\"layout\":{\"annotationdefaults\":{\"arrowcolor\":\"#2a3f5f\",\"arrowhead\":0,\"arrowwidth\":1},\"autotypenumbers\":\"strict\",\"coloraxis\":{\"colorbar\":{\"outlinewidth\":0,\"ticks\":\"\"}},\"colorscale\":{\"diverging\":[[0,\"#8e0152\"],[0.1,\"#c51b7d\"],[0.2,\"#de77ae\"],[0.3,\"#f1b6da\"],[0.4,\"#fde0ef\"],[0.5,\"#f7f7f7\"],[0.6,\"#e6f5d0\"],[0.7,\"#b8e186\"],[0.8,\"#7fbc41\"],[0.9,\"#4d9221\"],[1,\"#276419\"]],\"sequential\":[[0.0,\"#0d0887\"],[0.1111111111111111,\"#46039f\"],[0.2222222222222222,\"#7201a8\"],[0.3333333333333333,\"#9c179e\"],[0.4444444444444444,\"#bd3786\"],[0.5555555555555556,\"#d8576b\"],[0.6666666666666666,\"#ed7953\"],[0.7777777777777778,\"#fb9f3a\"],[0.8888888888888888,\"#fdca26\"],[1.0,\"#f0f921\"]],\"sequentialminus\":[[0.0,\"#0d0887\"],[0.1111111111111111,\"#46039f\"],[0.2222222222222222,\"#7201a8\"],[0.3333333333333333,\"#9c179e\"],[0.4444444444444444,\"#bd3786\"],[0.5555555555555556,\"#d8576b\"],[0.6666666666666666,\"#ed7953\"],[0.7777777777777778,\"#fb9f3a\"],[0.8888888888888888,\"#fdca26\"],[1.0,\"#f0f921\"]]},\"colorway\":[\"#636efa\",\"#EF553B\",\"#00cc96\",\"#ab63fa\",\"#FFA15A\",\"#19d3f3\",\"#FF6692\",\"#B6E880\",\"#FF97FF\",\"#FECB52\"],\"font\":{\"color\":\"#2a3f5f\"},\"geo\":{\"bgcolor\":\"white\",\"lakecolor\":\"white\",\"landcolor\":\"#E5ECF6\",\"showlakes\":true,\"showland\":true,\"subunitcolor\":\"white\"},\"hoverlabel\":{\"align\":\"left\"},\"hovermode\":\"closest\",\"mapbox\":{\"style\":\"light\"},\"paper_bgcolor\":\"white\",\"plot_bgcolor\":\"#E5ECF6\",\"polar\":{\"angularaxis\":{\"gridcolor\":\"white\",\"linecolor\":\"white\",\"ticks\":\"\"},\"bgcolor\":\"#E5ECF6\",\"radialaxis\":{\"gridcolor\":\"white\",\"linecolor\":\"white\",\"ticks\":\"\"}},\"scene\":{\"xaxis\":{\"backgroundcolor\":\"#E5ECF6\",\"gridcolor\":\"white\",\"gridwidth\":2,\"linecolor\":\"white\",\"showbackground\":true,\"ticks\":\"\",\"zerolinecolor\":\"white\"},\"yaxis\":{\"backgroundcolor\":\"#E5ECF6\",\"gridcolor\":\"white\",\"gridwidth\":2,\"linecolor\":\"white\",\"showbackground\":true,\"ticks\":\"\",\"zerolinecolor\":\"white\"},\"zaxis\":{\"backgroundcolor\":\"#E5ECF6\",\"gridcolor\":\"white\",\"gridwidth\":2,\"linecolor\":\"white\",\"showbackground\":true,\"ticks\":\"\",\"zerolinecolor\":\"white\"}},\"shapedefaults\":{\"line\":{\"color\":\"#2a3f5f\"}},\"ternary\":{\"aaxis\":{\"gridcolor\":\"white\",\"linecolor\":\"white\",\"ticks\":\"\"},\"baxis\":{\"gridcolor\":\"white\",\"linecolor\":\"white\",\"ticks\":\"\"},\"bgcolor\":\"#E5ECF6\",\"caxis\":{\"gridcolor\":\"white\",\"linecolor\":\"white\",\"ticks\":\"\"}},\"title\":{\"x\":0.05},\"xaxis\":{\"automargin\":true,\"gridcolor\":\"white\",\"linecolor\":\"white\",\"ticks\":\"\",\"title\":{\"standoff\":15},\"zerolinecolor\":\"white\",\"zerolinewidth\":2},\"yaxis\":{\"automargin\":true,\"gridcolor\":\"white\",\"linecolor\":\"white\",\"ticks\":\"\",\"title\":{\"standoff\":15},\"zerolinecolor\":\"white\",\"zerolinewidth\":2}}}},                        {\"responsive\": true}                    ).then(function(){\n",
       "                            \n",
       "var gd = document.getElementById('61936920-e1b2-4bbd-a306-78d6c0d335c5');\n",
       "var x = new MutationObserver(function (mutations, observer) {{\n",
       "        var display = window.getComputedStyle(gd).display;\n",
       "        if (!display || display === 'none') {{\n",
       "            console.log([gd, 'removed!']);\n",
       "            Plotly.purge(gd);\n",
       "            observer.disconnect();\n",
       "        }}\n",
       "}});\n",
       "\n",
       "// Listen for the removal of the full notebook cells\n",
       "var notebookContainer = gd.closest('#notebook-container');\n",
       "if (notebookContainer) {{\n",
       "    x.observe(notebookContainer, {childList: true});\n",
       "}}\n",
       "\n",
       "// Listen for the clearing of the current output cell\n",
       "var outputEl = gd.closest('.output');\n",
       "if (outputEl) {{\n",
       "    x.observe(outputEl, {childList: true});\n",
       "}}\n",
       "\n",
       "                        })                };                });            </script>        </div>"
      ]
     },
     "metadata": {},
     "output_type": "display_data"
    }
   ],
   "source": [
    "import plotly.graph_objects as go\n",
    "\n",
    "fig = go.Figure()\n",
    "# fig.add_trace(go.Scatter(x=result.index, y=result['open']))\n",
    "fig.add_trace(go.Scatter(x=result.index, y=result['open'], mode='lines+markers', name='pos'))\n",
    "fig.add_trace(go.Scatter(x=result[result['sentiment'] == 'neg'].index, y=result[result['sentiment'] == 'neg']['open'], mode='markers', name='neg'))\n",
    "fig.show()"
   ]
  },
  {
   "cell_type": "code",
   "execution_count": null,
   "id": "75a6b52c",
   "metadata": {},
   "outputs": [],
   "source": []
  }
 ],
 "metadata": {
  "kernelspec": {
   "display_name": "Python 3",
   "language": "python",
   "name": "python3"
  },
  "language_info": {
   "codemirror_mode": {
    "name": "ipython",
    "version": 3
   },
   "file_extension": ".py",
   "mimetype": "text/x-python",
   "name": "python",
   "nbconvert_exporter": "python",
   "pygments_lexer": "ipython3",
   "version": "3.8.8"
  }
 },
 "nbformat": 4,
 "nbformat_minor": 5
}
